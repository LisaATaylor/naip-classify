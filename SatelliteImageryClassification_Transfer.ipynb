{
  "nbformat": 4,
  "nbformat_minor": 0,
  "metadata": {
    "colab": {
      "name": "SatelliteImageryClassification_Transfer.ipynb",
      "provenance": [],
      "collapsed_sections": [],
      "machine_shape": "hm",
      "include_colab_link": true
    },
    "kernelspec": {
      "name": "python3",
      "display_name": "Python 3"
    },
    "accelerator": "GPU"
  },
  "cells": [
    {
      "cell_type": "markdown",
      "metadata": {
        "id": "view-in-github",
        "colab_type": "text"
      },
      "source": [
        "<a href=\"https://colab.research.google.com/github/LisaATaylor/naip-classify/blob/master/SatelliteImageryClassification_Transfer.ipynb\" target=\"_parent\"><img src=\"https://colab.research.google.com/assets/colab-badge.svg\" alt=\"Open In Colab\"/></a>"
      ]
    },
    {
      "cell_type": "markdown",
      "metadata": {
        "id": "zF6-l9_Q2MoI",
        "colab_type": "text"
      },
      "source": [
        "Classification of satellite imagery tiles by transfer learning."
      ]
    },
    {
      "cell_type": "code",
      "metadata": {
        "id": "54R24vdoGMYo",
        "colab_type": "code",
        "outputId": "560c807d-428c-4863-af70-1ade0d1dd7ec",
        "colab": {
          "base_uri": "https://localhost:8080/",
          "height": 122
        }
      },
      "source": [
        "#save content to google drive to avoid downloading again\n",
        "from google.colab import drive\n",
        "drive.mount('/content/gdrive')"
      ],
      "execution_count": 1,
      "outputs": [
        {
          "output_type": "stream",
          "text": [
            "Go to this URL in a browser: https://accounts.google.com/o/oauth2/auth?client_id=947318989803-6bn6qk8qdgf4n4g3pfee6491hc0brc4i.apps.googleusercontent.com&redirect_uri=urn%3aietf%3awg%3aoauth%3a2.0%3aoob&response_type=code&scope=email%20https%3a%2f%2fwww.googleapis.com%2fauth%2fdocs.test%20https%3a%2f%2fwww.googleapis.com%2fauth%2fdrive%20https%3a%2f%2fwww.googleapis.com%2fauth%2fdrive.photos.readonly%20https%3a%2f%2fwww.googleapis.com%2fauth%2fpeopleapi.readonly\n",
            "\n",
            "Enter your authorization code:\n",
            "··········\n",
            "Mounted at /content/gdrive\n"
          ],
          "name": "stdout"
        }
      ]
    },
    {
      "cell_type": "code",
      "metadata": {
        "id": "0jF5UUMMGtJW",
        "colab_type": "code",
        "colab": {}
      },
      "source": [
        "from scipy.io import loadmat\n",
        "data=loadmat('/content/gdrive/My Drive/Springboard/Data/DeepSat6/sat-6-full.mat')"
      ],
      "execution_count": 0,
      "outputs": []
    },
    {
      "cell_type": "code",
      "metadata": {
        "id": "RFtAJ6qZG26_",
        "colab_type": "code",
        "colab": {}
      },
      "source": [
        "import numpy as np\n",
        "import pandas as pd\n",
        "\n",
        "def fixaxes(inarr): #matlab format has long axis in last position, move to 1st to match tensorflow\n",
        "  return np.rollaxis(inarr,3,0)\n",
        "\n",
        "#load ndarrays from mat dictionary\n",
        "trainX=fixaxes(data['train_x']) \n",
        "trainy=data['train_y'].T\n",
        "testX=fixaxes(data['test_x'])\n",
        "testy = data['test_y'].T\n",
        "assert np.all(trainX[0,:10,0,0] == data['train_x'][:10,0,0,0])\n"
      ],
      "execution_count": 0,
      "outputs": []
    },
    {
      "cell_type": "code",
      "metadata": {
        "id": "0i4kaZko2qfA",
        "colab_type": "code",
        "colab": {}
      },
      "source": [
        "# get vector of categories for interpreting outputs\n",
        "anno=pd.read_csv('/content/gdrive/My Drive/Springboard/Data/DeepSat6/sat6annotations.csv',header=None)\n",
        "anno.head()\n",
        "categories=anno.loc[:,0].to_dict()\n",
        "ycat=pd.DataFrame(trainy).idxmax(axis=1).map(categories)"
      ],
      "execution_count": 0,
      "outputs": []
    },
    {
      "cell_type": "code",
      "metadata": {
        "id": "6KowkYFF2-lb",
        "colab_type": "code",
        "outputId": "860011b1-d97d-40bb-8ec4-3fd56e623db6",
        "colab": {
          "base_uri": "https://localhost:8080/",
          "height": 307
        }
      },
      "source": [
        "# look at a few tiles, visible bands\n",
        "import matplotlib.pyplot as plt \n",
        "fig,axs=plt.subplots(1,4,figsize=(20,10))\n",
        "axs[0].imshow(trainX[0,:,:,:3])\n",
        "axs[1].imshow(trainX[6,:,:,:3])\n",
        "axs[2].imshow(trainX[2,:,:,:3])\n",
        "axs[3].imshow(trainX[8,:,:,:3])\n",
        "axs[0].set_title(ycat.loc[0])\n",
        "axs[1].set_title(ycat.loc[6])\n",
        "axs[2].set_title(ycat.loc[2])\n",
        "axs[3].set_title(ycat.loc[8]);"
      ],
      "execution_count": 5,
      "outputs": [
        {
          "output_type": "display_data",
          "data": {
            "image/png": "[encoded data removed]",
            "text/plain": [
              "<Figure size 1440x720 with 4 Axes>"
            ]
          },
          "metadata": {
            "tags": []
          }
        }
      ]
    },
    {
      "cell_type": "code",
      "metadata": {
        "id": "Sq_TrFE13Cip",
        "colab_type": "code",
        "outputId": "a74ae490-fa01-4ed6-feb8-dc07d8156cc0",
        "colab": {
          "base_uri": "https://localhost:8080/",
          "height": 331
        }
      },
      "source": [
        "#look at balance between categories:  we see that the categories are not evenly distributed\n",
        "ycounts=ycat.value_counts()\n",
        "ycounts.plot.bar()\n",
        "plt.title('Distribution of categories in the DeepSat6 Dataset');"
      ],
      "execution_count": 6,
      "outputs": [
        {
          "output_type": "display_data",
          "data": {
            "image/png": "[encoded data removed]",
            "text/plain": [
              "<Figure size 432x288 with 1 Axes>"
            ]
          },
          "metadata": {
            "tags": []
          }
        }
      ]
    },
    {
      "cell_type": "code",
      "metadata": {
        "id": "BvNkch4tHjlo",
        "colab_type": "code",
        "colab": {}
      },
      "source": [
        "#get shuffled indices for train-val split\n",
        "import random\n",
        "nimg=len(trainX)\n",
        "ixs=list(range(nimg))\n",
        "random.shuffle(ixs)\n",
        "train_ix=ixs[:280000]\n",
        "val_ix=ixs[280000:]"
      ],
      "execution_count": 0,
      "outputs": []
    },
    {
      "cell_type": "code",
      "metadata": {
        "id": "SK9tcBitzlj2",
        "colab_type": "code",
        "colab": {}
      },
      "source": [
        "#create generators to feed imagery to network\n",
        "from tensorflow.keras.preprocessing.image import ImageDataGenerator\n",
        "train_datagen = ImageDataGenerator(rescale=1./255)\n",
        "val_datagen = ImageDataGenerator(rescale=1./255)\n",
        "train_generator=train_datagen.flow(trainX[train_ix,:,:,:3],trainy[train_ix],batch_size=512) #puts 280,000 images in train, excludes IR band\n",
        "val_generator=val_datagen.flow(trainX[val_ix,:,:,:3],trainy[val_ix],batch_size=512) #puts 64,800 records in val\n",
        "\n",
        "#train_generator=train_datagen.flow(trainX[:280000,:,:,:3],trainy[:280000],batch_size=512) #puts 280,000 images in train, excludes IR band\n",
        "#val_generator=val_datagen.flow(trainX[280000:,:,:,:3],trainy[280000:],batch_size=512) #puts 64,800 records in val"
      ],
      "execution_count": 0,
      "outputs": []
    },
    {
      "cell_type": "code",
      "metadata": {
        "id": "5z03EG8U3Fyp",
        "colab_type": "code",
        "outputId": "cda18680-949b-4f4d-e868-77d8b4d39efc",
        "colab": {
          "base_uri": "https://localhost:8080/",
          "height": 357
        }
      },
      "source": [
        "#Build CNN with transfer learning from VGG16 trained on imagenet\n",
        "from tensorflow.keras import models,layers\n",
        "from tensorflow.keras.applications import VGG16\n",
        "\n",
        "cbase=VGG16(weights='imagenet',include_top=False)#,input_shape=(56,56,3)) \n",
        "cbase.trainable=False # freeze convolutional base\n",
        "\n",
        "tmodel=models.Sequential()\n",
        "tmodel.add(layers.UpSampling3D((2,2,1),input_shape=(28,28,3))) #upsample so image is bigger than min size for VGG16\n",
        "tmodel.add(cbase)\n",
        "tmodel.add(layers.Flatten())\n",
        "\n",
        "tmodel.add(layers.Dense(512,activation='relu'))\n",
        "tmodel.add(layers.Dropout(0.5))\n",
        "tmodel.add(layers.Dense(6,activation='softmax'))\n",
        "tmodel.summary()"
      ],
      "execution_count": 20,
      "outputs": [
        {
          "output_type": "stream",
          "text": [
            "Model: \"sequential_2\"\n",
            "_________________________________________________________________\n",
            "Layer (type)                 Output Shape              Param #   \n",
            "=================================================================\n",
            "up_sampling3d_2 (UpSampling3 (None, 56, 56, 3)         0         \n",
            "_________________________________________________________________\n",
            "vgg16 (Model)                multiple                  14714688  \n",
            "_________________________________________________________________\n",
            "flatten_2 (Flatten)          (None, 512)               0         \n",
            "_________________________________________________________________\n",
            "dense_4 (Dense)              (None, 512)               262656    \n",
            "_________________________________________________________________\n",
            "dropout_2 (Dropout)          (None, 512)               0         \n",
            "_________________________________________________________________\n",
            "dense_5 (Dense)              (None, 6)                 3078      \n",
            "=================================================================\n",
            "Total params: 14,980,422\n",
            "Trainable params: 265,734\n",
            "Non-trainable params: 14,714,688\n",
            "_________________________________________________________________\n"
          ],
          "name": "stdout"
        }
      ]
    },
    {
      "cell_type": "code",
      "metadata": {
        "id": "EZEtNJ0L4OFN",
        "colab_type": "code",
        "colab": {}
      },
      "source": [
        "#Compile model, load\n",
        "from tensorflow.keras import optimizers\n",
        "tmodel.compile(loss='categorical_crossentropy',optimizer=optimizers.RMSprop(lr=0.0001),metrics=['accuracy'])\n",
        "\n",
        "load_weights=False #load weights if not re-fitting\n",
        "if load_weights:\n",
        "    tmodel.load_weights('/content/gdrive/My Drive/Springboard/Data/DeepSat6/vgg_baseline.hdf5')"
      ],
      "execution_count": 0,
      "outputs": []
    },
    {
      "cell_type": "code",
      "metadata": {
        "id": "m6DpIjNv4OST",
        "colab_type": "code",
        "outputId": "6de594a3-67dc-4c41-fc46-ba6713eacdf9",
        "colab": {
          "base_uri": "https://localhost:8080/",
          "height": 1000
        }
      },
      "source": [
        "from keras.callbacks import EarlyStopping\n",
        "early_stop_mon=EarlyStopping(patience=3)\n",
        "if load_weights!=True:\n",
        "    history=tmodel.fit_generator(train_generator,steps_per_epoch=545,epochs=30,validation_data=val_generator,validation_steps=20,callbacks=[early_stop_mon])"
      ],
      "execution_count": 22,
      "outputs": [
        {
          "output_type": "stream",
          "text": [
            "Epoch 1/30\n",
            "544/545 [============================>.] - ETA: 0s - loss: 0.5842 - acc: 0.7722Epoch 1/30\n",
            "545/545 [==============================] - 47s 86ms/step - loss: 0.5838 - acc: 0.7724 - val_loss: 0.3233 - val_acc: 0.8669\n",
            "Epoch 2/30\n",
            "544/545 [============================>.] - ETA: 0s - loss: 0.3030 - acc: 0.8779Epoch 1/30\n",
            "545/545 [==============================] - 46s 85ms/step - loss: 0.3029 - acc: 0.8779 - val_loss: 0.2437 - val_acc: 0.9003\n",
            "Epoch 3/30\n",
            "544/545 [============================>.] - ETA: 0s - loss: 0.2449 - acc: 0.9052Epoch 1/30\n",
            "545/545 [==============================] - 46s 85ms/step - loss: 0.2448 - acc: 0.9052 - val_loss: 0.2062 - val_acc: 0.9195\n",
            "Epoch 4/30\n",
            "544/545 [============================>.] - ETA: 0s - loss: 0.2135 - acc: 0.9195Epoch 1/30\n",
            "545/545 [==============================] - 46s 85ms/step - loss: 0.2135 - acc: 0.9195 - val_loss: 0.1842 - val_acc: 0.9291\n",
            "Epoch 5/30\n",
            "544/545 [============================>.] - ETA: 0s - loss: 0.1944 - acc: 0.9275Epoch 1/30\n",
            "545/545 [==============================] - 47s 85ms/step - loss: 0.1944 - acc: 0.9275 - val_loss: 0.1675 - val_acc: 0.9389\n",
            "Epoch 6/30\n",
            "544/545 [============================>.] - ETA: 0s - loss: 0.1804 - acc: 0.9334Epoch 1/30\n",
            "545/545 [==============================] - 47s 85ms/step - loss: 0.1804 - acc: 0.9334 - val_loss: 0.1569 - val_acc: 0.9432\n",
            "Epoch 7/30\n",
            "544/545 [============================>.] - ETA: 0s - loss: 0.1698 - acc: 0.9368Epoch 1/30\n",
            "545/545 [==============================] - 47s 85ms/step - loss: 0.1698 - acc: 0.9368 - val_loss: 0.1476 - val_acc: 0.9460\n",
            "Epoch 8/30\n",
            "544/545 [============================>.] - ETA: 0s - loss: 0.1621 - acc: 0.9403Epoch 1/30\n",
            "545/545 [==============================] - 47s 85ms/step - loss: 0.1620 - acc: 0.9403 - val_loss: 0.1411 - val_acc: 0.9486\n",
            "Epoch 9/30\n",
            "544/545 [============================>.] - ETA: 0s - loss: 0.1550 - acc: 0.9427Epoch 1/30\n",
            "545/545 [==============================] - 47s 85ms/step - loss: 0.1549 - acc: 0.9427 - val_loss: 0.1363 - val_acc: 0.9491\n",
            "Epoch 10/30\n",
            "544/545 [============================>.] - ETA: 0s - loss: 0.1486 - acc: 0.9449Epoch 1/30\n",
            "545/545 [==============================] - 47s 85ms/step - loss: 0.1487 - acc: 0.9448 - val_loss: 0.1310 - val_acc: 0.9520\n",
            "Epoch 11/30\n",
            "544/545 [============================>.] - ETA: 0s - loss: 0.1450 - acc: 0.9464Epoch 1/30\n",
            "545/545 [==============================] - 47s 86ms/step - loss: 0.1450 - acc: 0.9464 - val_loss: 0.1262 - val_acc: 0.9541\n",
            "Epoch 12/30\n",
            "544/545 [============================>.] - ETA: 0s - loss: 0.1407 - acc: 0.9479Epoch 1/30\n",
            "545/545 [==============================] - 47s 86ms/step - loss: 0.1407 - acc: 0.9479 - val_loss: 0.1235 - val_acc: 0.9534\n",
            "Epoch 13/30\n",
            "544/545 [============================>.] - ETA: 0s - loss: 0.1358 - acc: 0.9497Epoch 1/30\n",
            "545/545 [==============================] - 47s 85ms/step - loss: 0.1359 - acc: 0.9497 - val_loss: 0.1197 - val_acc: 0.9571\n",
            "Epoch 14/30\n",
            "544/545 [============================>.] - ETA: 0s - loss: 0.1331 - acc: 0.9509Epoch 1/30\n",
            "545/545 [==============================] - 47s 85ms/step - loss: 0.1331 - acc: 0.9509 - val_loss: 0.1163 - val_acc: 0.9579\n",
            "Epoch 15/30\n",
            "544/545 [============================>.] - ETA: 0s - loss: 0.1300 - acc: 0.9518Epoch 1/30\n",
            "545/545 [==============================] - 47s 85ms/step - loss: 0.1300 - acc: 0.9518 - val_loss: 0.1145 - val_acc: 0.9586\n",
            "Epoch 16/30\n",
            "544/545 [============================>.] - ETA: 0s - loss: 0.1271 - acc: 0.9530Epoch 1/30\n",
            "545/545 [==============================] - 47s 85ms/step - loss: 0.1271 - acc: 0.9530 - val_loss: 0.1119 - val_acc: 0.9595\n",
            "Epoch 17/30\n",
            "544/545 [============================>.] - ETA: 0s - loss: 0.1244 - acc: 0.9540Epoch 1/30\n",
            "545/545 [==============================] - 47s 85ms/step - loss: 0.1244 - acc: 0.9541 - val_loss: 0.1097 - val_acc: 0.9589\n",
            "Epoch 18/30\n",
            "544/545 [============================>.] - ETA: 0s - loss: 0.1224 - acc: 0.9544Epoch 1/30\n",
            "545/545 [==============================] - 47s 85ms/step - loss: 0.1224 - acc: 0.9544 - val_loss: 0.1079 - val_acc: 0.9603\n",
            "Epoch 19/30\n",
            "544/545 [============================>.] - ETA: 0s - loss: 0.1198 - acc: 0.9557Epoch 1/30\n",
            "545/545 [==============================] - 47s 86ms/step - loss: 0.1198 - acc: 0.9557 - val_loss: 0.1059 - val_acc: 0.9614\n",
            "Epoch 20/30\n",
            "544/545 [============================>.] - ETA: 0s - loss: 0.1188 - acc: 0.9556Epoch 1/30\n",
            "545/545 [==============================] - 47s 86ms/step - loss: 0.1188 - acc: 0.9556 - val_loss: 0.1042 - val_acc: 0.9620\n",
            "Epoch 21/30\n",
            "544/545 [============================>.] - ETA: 0s - loss: 0.1160 - acc: 0.9567Epoch 1/30\n",
            "545/545 [==============================] - 47s 86ms/step - loss: 0.1161 - acc: 0.9566 - val_loss: 0.1023 - val_acc: 0.9625\n",
            "Epoch 22/30\n",
            "544/545 [============================>.] - ETA: 0s - loss: 0.1146 - acc: 0.9579Epoch 1/30\n",
            "545/545 [==============================] - 47s 85ms/step - loss: 0.1146 - acc: 0.9579 - val_loss: 0.1023 - val_acc: 0.9612\n",
            "Epoch 23/30\n",
            "544/545 [============================>.] - ETA: 0s - loss: 0.1129 - acc: 0.9580Epoch 1/30\n",
            "545/545 [==============================] - 47s 85ms/step - loss: 0.1129 - acc: 0.9580 - val_loss: 0.0997 - val_acc: 0.9632\n",
            "Epoch 24/30\n",
            "544/545 [============================>.] - ETA: 0s - loss: 0.1117 - acc: 0.9589Epoch 1/30\n",
            "545/545 [==============================] - 47s 85ms/step - loss: 0.1117 - acc: 0.9589 - val_loss: 0.0989 - val_acc: 0.9631\n",
            "Epoch 25/30\n",
            "544/545 [============================>.] - ETA: 0s - loss: 0.1098 - acc: 0.9594Epoch 1/30\n",
            "545/545 [==============================] - 47s 85ms/step - loss: 0.1098 - acc: 0.9594 - val_loss: 0.0970 - val_acc: 0.9642\n",
            "Epoch 26/30\n",
            "544/545 [============================>.] - ETA: 0s - loss: 0.1083 - acc: 0.9598Epoch 1/30\n",
            "545/545 [==============================] - 47s 86ms/step - loss: 0.1083 - acc: 0.9598 - val_loss: 0.0971 - val_acc: 0.9637\n",
            "Epoch 27/30\n",
            "544/545 [============================>.] - ETA: 0s - loss: 0.1069 - acc: 0.9607Epoch 1/30\n",
            "545/545 [==============================] - 47s 85ms/step - loss: 0.1069 - acc: 0.9607 - val_loss: 0.0944 - val_acc: 0.9646\n",
            "Epoch 28/30\n",
            "544/545 [============================>.] - ETA: 0s - loss: 0.1062 - acc: 0.9607Epoch 1/30\n",
            "545/545 [==============================] - 46s 85ms/step - loss: 0.1062 - acc: 0.9608 - val_loss: 0.0939 - val_acc: 0.9651\n",
            "Epoch 29/30\n",
            "544/545 [============================>.] - ETA: 0s - loss: 0.1046 - acc: 0.9614Epoch 1/30\n",
            "545/545 [==============================] - 47s 85ms/step - loss: 0.1047 - acc: 0.9613 - val_loss: 0.0926 - val_acc: 0.9657\n",
            "Epoch 30/30\n",
            "544/545 [============================>.] - ETA: 0s - loss: 0.1035 - acc: 0.9618Epoch 1/30\n",
            "545/545 [==============================] - 47s 85ms/step - loss: 0.1034 - acc: 0.9618 - val_loss: 0.0923 - val_acc: 0.9662\n"
          ],
          "name": "stdout"
        }
      ]
    },
    {
      "cell_type": "code",
      "metadata": {
        "id": "2Hmi5nl14OfR",
        "colab_type": "code",
        "colab": {}
      },
      "source": [
        "save_weights=True\n",
        "if save_weights:\n",
        "    tmodel.save_weights('/content/gdrive/My Drive/Springboard/Data/DeepSat6/vgg_baseline.hdf5')\n",
        "    #dump history too\n",
        "    hist_df=pd.DataFrame.from_dict(history.history)\n",
        "    hist_df.to_csv('/content/gdrive/My Drive/Springboard/Data/DeepSat6/vgg_history.csv')\n"
      ],
      "execution_count": 0,
      "outputs": []
    },
    {
      "cell_type": "code",
      "metadata": {
        "id": "tJ99vu8Vq6Gh",
        "colab_type": "code",
        "colab": {}
      },
      "source": [
        "#tmodel.load_weights('/content/gdrive/My Drive/Springboard/Data/DeepSat6/vgg_baseline.hdf5')\n"
      ],
      "execution_count": 0,
      "outputs": []
    },
    {
      "cell_type": "code",
      "metadata": {
        "id": "C2xxN5IPrGNz",
        "colab_type": "code",
        "colab": {}
      },
      "source": [
        "#hist=pd.read_csv('/content/gdrive/My Drive/Springboard/Data/DeepSat6/vgg_history.csv')"
      ],
      "execution_count": 0,
      "outputs": []
    },
    {
      "cell_type": "code",
      "metadata": {
        "id": "XS7sVaJ_6vL5",
        "colab_type": "code",
        "outputId": "2e505ef8-5ab6-4585-ac44-93e692c2a2e5",
        "colab": {
          "base_uri": "https://localhost:8080/",
          "height": 370
        }
      },
      "source": [
        "# Plot progression of model fit over each epoch\n",
        "# adapted from Deep Learning With Python (Chollet)\n",
        "h=history.history\n",
        "epochs = range(len(h['acc']))\n",
        "fig,ax=plt.subplots(1,2,figsize=(13,5))\n",
        "ax[0].plot(epochs, h['acc'], 'r', label='Training')\n",
        "ax[0].plot(epochs, h['val_acc'], 'b', label='Validation')\n",
        "ax[0].set_title('Accuracy')\n",
        "ax[0].set_xlabel('Epochs')\n",
        "ax[0].legend()\n",
        "ax[1].plot(epochs, h['loss'], 'r', label='Training')\n",
        "ax[1].plot(epochs, h['val_loss'], 'b', label='Validation')\n",
        "ax[1].set_title('Loss')\n",
        "ax[1].set_xlabel('Epochs')\n",
        "ax[1].legend()\n",
        "plt.suptitle('Evaluation of Model Fit Over 30 Epochs');\n"
      ],
      "execution_count": 26,
      "outputs": [
        {
          "output_type": "display_data",
          "data": {
            "image/png": "[encoded data removed]",
            "text/plain": [
              "<Figure size 936x360 with 2 Axes>"
            ]
          },
          "metadata": {
            "tags": []
          }
        }
      ]
    },
    {
      "cell_type": "code",
      "metadata": {
        "id": "teh0V9tztwmR",
        "colab_type": "code",
        "colab": {}
      },
      "source": [
        "# Look at predictions on held-out data\n",
        "testX_rescaled=testX[:,:,:,:3]/255\n",
        "predy=tmodel.predict(testX_rescaled)"
      ],
      "execution_count": 0,
      "outputs": []
    },
    {
      "cell_type": "code",
      "metadata": {
        "id": "52b6HeIqjS_z",
        "colab_type": "code",
        "colab": {}
      },
      "source": [
        "#get pd Series of predicted and actual categories for test dataset\n",
        "testycat=pd.DataFrame(testy).idxmax(axis=1).map(categories) #actual\n",
        "testycat_pred=pd.DataFrame(predy).idxmax(axis=1).map(categories) #pred"
      ],
      "execution_count": 0,
      "outputs": []
    },
    {
      "cell_type": "code",
      "metadata": {
        "id": "usGIgSQe7t7V",
        "colab_type": "code",
        "outputId": "6d153696-d777-4735-ff8f-19f880970a5c",
        "colab": {
          "base_uri": "https://localhost:8080/",
          "height": 337
        }
      },
      "source": [
        "#Plot comparison of pred vs actual on test\n",
        "pred_df=testycat_pred.value_counts()\n",
        "act_df=testycat.value_counts()\n",
        "fig,ax=plt.subplots(figsize=(10,5))\n",
        "ind=np.arange(6)\n",
        "width=0.35\n",
        "pred=ax.bar(ind+width,pred_df.values,width=width,label='predicted')\n",
        "act=ax.bar(ind,act_df.values,width=width,label='actual')\n",
        "ax.set_xticks(ind+width/2)\n",
        "ax.set_xticklabels(pred_df.index)\n",
        "ax.legend()\n",
        "ax.set_title('Comparison of predicted and actual categories on test dataset');"
      ],
      "execution_count": 29,
      "outputs": [
        {
          "output_type": "display_data",
          "data": {
            "image/png": "[encoded data removed]",
            "text/plain": [
              "<Figure size 720x360 with 1 Axes>"
            ]
          },
          "metadata": {
            "tags": []
          }
        }
      ]
    },
    {
      "cell_type": "code",
      "metadata": {
        "id": "NfMAqXhN7uJq",
        "colab_type": "code",
        "outputId": "7cd54db8-c0c9-42fb-b154-8c7b7949a7ab",
        "colab": {
          "base_uri": "https://localhost:8080/",
          "height": 204
        }
      },
      "source": [
        "#get prediction errors\n",
        "compare_df=pd.concat([testycat,testycat_pred],axis=1)\n",
        "compare_df.columns=['actual','predicted']\n",
        "compare_df=compare_df.assign(mismatch=compare_df.actual!=compare_df.predicted)\n",
        "compare_df.loc[compare_df.mismatch].head()"
      ],
      "execution_count": 30,
      "outputs": [
        {
          "output_type": "execute_result",
          "data": {
            "text/html": [
              "<div>\n",
              "<style scoped>\n",
              "    .dataframe tbody tr th:only-of-type {\n",
              "        vertical-align: middle;\n",
              "    }\n",
              "\n",
              "    .dataframe tbody tr th {\n",
              "        vertical-align: top;\n",
              "    }\n",
              "\n",
              "    .dataframe thead th {\n",
              "        text-align: right;\n",
              "    }\n",
              "</style>\n",
              "<table border=\"1\" class=\"dataframe\">\n",
              "  <thead>\n",
              "    <tr style=\"text-align: right;\">\n",
              "      <th></th>\n",
              "      <th>actual</th>\n",
              "      <th>predicted</th>\n",
              "      <th>mismatch</th>\n",
              "    </tr>\n",
              "  </thead>\n",
              "  <tbody>\n",
              "    <tr>\n",
              "      <th>37</th>\n",
              "      <td>barren_land</td>\n",
              "      <td>grassland</td>\n",
              "      <td>True</td>\n",
              "    </tr>\n",
              "    <tr>\n",
              "      <th>43</th>\n",
              "      <td>grassland</td>\n",
              "      <td>barren_land</td>\n",
              "      <td>True</td>\n",
              "    </tr>\n",
              "    <tr>\n",
              "      <th>84</th>\n",
              "      <td>barren_land</td>\n",
              "      <td>grassland</td>\n",
              "      <td>True</td>\n",
              "    </tr>\n",
              "    <tr>\n",
              "      <th>88</th>\n",
              "      <td>grassland</td>\n",
              "      <td>barren_land</td>\n",
              "      <td>True</td>\n",
              "    </tr>\n",
              "    <tr>\n",
              "      <th>92</th>\n",
              "      <td>barren_land</td>\n",
              "      <td>grassland</td>\n",
              "      <td>True</td>\n",
              "    </tr>\n",
              "  </tbody>\n",
              "</table>\n",
              "</div>"
            ],
            "text/plain": [
              "         actual    predicted  mismatch\n",
              "37  barren_land    grassland      True\n",
              "43    grassland  barren_land      True\n",
              "84  barren_land    grassland      True\n",
              "88    grassland  barren_land      True\n",
              "92  barren_land    grassland      True"
            ]
          },
          "metadata": {
            "tags": []
          },
          "execution_count": 30
        }
      ]
    },
    {
      "cell_type": "code",
      "metadata": {
        "id": "qO9UFDOFs_iD",
        "colab_type": "code",
        "outputId": "338ed10c-96f8-4d3e-e9f5-ff54b0ae021e",
        "colab": {
          "base_uri": "https://localhost:8080/",
          "height": 68
        }
      },
      "source": [
        "#overall total of correct vs incorrect predictions\n",
        "compare_df['mismatch'].value_counts()"
      ],
      "execution_count": 31,
      "outputs": [
        {
          "output_type": "execute_result",
          "data": {
            "text/plain": [
              "False    78028\n",
              "True      2972\n",
              "Name: mismatch, dtype: int64"
            ]
          },
          "metadata": {
            "tags": []
          },
          "execution_count": 31
        }
      ]
    },
    {
      "cell_type": "code",
      "metadata": {
        "id": "IRQ_e3Qo7yUh",
        "colab_type": "code",
        "outputId": "ce88be33-d053-488c-ab04-db4485073d34",
        "colab": {
          "base_uri": "https://localhost:8080/",
          "height": 34
        }
      },
      "source": [
        "#accuracy on test dataset\n",
        "print('Overall accuracy on test dataset: {0:.3f}'.format(1-(compare_df.mismatch.sum()/compare_df.mismatch.count())))"
      ],
      "execution_count": 32,
      "outputs": [
        {
          "output_type": "stream",
          "text": [
            "Overall accuracy on test dataset: 0.963\n"
          ],
          "name": "stdout"
        }
      ]
    },
    {
      "cell_type": "code",
      "metadata": {
        "id": "0mFI9FNp7yao",
        "colab_type": "code",
        "outputId": "1dd03b1a-c4a2-423a-8174-d9198023cb0c",
        "colab": {
          "base_uri": "https://localhost:8080/",
          "height": 544
        }
      },
      "source": [
        "# Look at confusion matrix, classification report\n",
        "from sklearn.metrics import classification_report,confusion_matrix\n",
        "print('Classification Report:')\n",
        "print(classification_report(testycat,testycat_pred))\n",
        "print('Confusion Matrix:')\n",
        "print(confusion_matrix(testycat,testycat_pred))\n",
        "print('\\nNumber of Correct Classifications:')\n",
        "correct=compare_df.loc[~compare_df.mismatch].groupby(['actual','predicted']).count()\n",
        "correct.columns=['Correct']\n",
        "print(correct) #check order of entries along diagonal of confusion matrix"
      ],
      "execution_count": 33,
      "outputs": [
        {
          "output_type": "stream",
          "text": [
            "Classification Report:\n",
            "              precision    recall  f1-score   support\n",
            "\n",
            " barren_land       0.94      0.95      0.94     18367\n",
            "    building       0.95      0.96      0.95      3714\n",
            "   grassland       0.91      0.90      0.91     12596\n",
            "        road       0.96      0.93      0.94      2070\n",
            "       trees       0.97      0.97      0.97     14185\n",
            "       water       1.00      1.00      1.00     30068\n",
            "\n",
            "    accuracy                           0.96     81000\n",
            "   macro avg       0.95      0.95      0.95     81000\n",
            "weighted avg       0.96      0.96      0.96     81000\n",
            "\n",
            "Confusion Matrix:\n",
            "[[17417    32   766     6   143     3]\n",
            " [   68  3555     4    75     6     6]\n",
            " [  983    13 11328     5   266     1]\n",
            " [   15   122     7  1920     4     2]\n",
            " [   99     6   308     0 13755    17]\n",
            " [    0     5     0     0    10 30053]]\n",
            "\n",
            "Number of Correct Classifications:\n",
            "                         Correct\n",
            "actual      predicted           \n",
            "barren_land barren_land    17417\n",
            "building    building        3555\n",
            "grassland   grassland      11328\n",
            "road        road            1920\n",
            "trees       trees          13755\n",
            "water       water          30053\n"
          ],
          "name": "stdout"
        }
      ]
    },
    {
      "cell_type": "code",
      "metadata": {
        "id": "3iN8X7d97yYP",
        "colab_type": "code",
        "outputId": "fc173f6c-70dd-4861-aa8a-9961dc4ae25a",
        "colab": {
          "base_uri": "https://localhost:8080/",
          "height": 221
        }
      },
      "source": [
        "# grasslands have slightly lower recall wrt other categories \n",
        "gl_mismatch=compare_df.loc[(compare_df.mismatch)&(compare_df.actual=='grassland')]\n",
        "print(gl_mismatch['predicted'].value_counts()) #roads most often misclassified as buildings\n",
        "gl_mismatch['ixcopy']=gl_mismatch.index\n",
        "mismatches=gl_mismatch.groupby('predicted')['ixcopy'].first()"
      ],
      "execution_count": 34,
      "outputs": [
        {
          "output_type": "stream",
          "text": [
            "barren_land    983\n",
            "trees          266\n",
            "building        13\n",
            "road             5\n",
            "water            1\n",
            "Name: predicted, dtype: int64\n"
          ],
          "name": "stdout"
        },
        {
          "output_type": "stream",
          "text": [
            "/usr/local/lib/python3.6/dist-packages/ipykernel_launcher.py:3: SettingWithCopyWarning: \n",
            "A value is trying to be set on a copy of a slice from a DataFrame.\n",
            "Try using .loc[row_indexer,col_indexer] = value instead\n",
            "\n",
            "See the caveats in the documentation: http://pandas.pydata.org/pandas-docs/stable/user_guide/indexing.html#returning-a-view-versus-a-copy\n",
            "  This is separate from the ipykernel package so we can avoid doing imports until\n"
          ],
          "name": "stderr"
        }
      ]
    },
    {
      "cell_type": "code",
      "metadata": {
        "id": "LaGqaC5L8bLr",
        "colab_type": "code",
        "outputId": "2c0961ab-9258-4c70-c762-6be1454088a4",
        "colab": {
          "base_uri": "https://localhost:8080/",
          "height": 304
        }
      },
      "source": [
        "#view some mismatches\n",
        "fig,axs=plt.subplots(1,5,figsize=(25,10))\n",
        "axix=0\n",
        "for i,v in mismatches.iteritems():\n",
        "  axs[axix].imshow(testX[v,:,:,:3])\n",
        "  axs[axix].set_title('Grassland misclassified as {}'.format(i))\n",
        "  axix+=1"
      ],
      "execution_count": 35,
      "outputs": [
        {
          "output_type": "display_data",
          "data": {
            "image/png": "[encoded data removed]",
            "text/plain": [
              "<Figure size 1800x720 with 5 Axes>"
            ]
          },
          "metadata": {
            "tags": []
          }
        }
      ]
    },
    {
      "cell_type": "code",
      "metadata": {
        "id": "B5qnnwYY8gP1",
        "colab_type": "code",
        "colab": {}
      },
      "source": [
        ""
      ],
      "execution_count": 0,
      "outputs": []
    }
  ]
}