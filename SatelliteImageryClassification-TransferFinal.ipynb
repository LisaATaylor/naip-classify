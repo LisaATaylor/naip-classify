{
  "nbformat": 4,
  "nbformat_minor": 0,
  "metadata": {
    "colab": {
      "name": "SatelliteImageryClassification_Transfer.ipynb",
      "provenance": [],
      "collapsed_sections": [],
      "machine_shape": "hm",
      "include_colab_link": true
    },
    "kernelspec": {
      "name": "python3",
      "display_name": "Python 3"
    },
    "accelerator": "GPU"
  },
  "cells": [
    {
      "cell_type": "markdown",
      "metadata": {
        "id": "view-in-github",
        "colab_type": "text"
      },
      "source": [
        "<a href=\"https://colab.research.google.com/github/LisaATaylor/naip-classify/blob/master/SatelliteImageryClassification-TransferFinal.ipynb\" target=\"_parent\"><img src=\"https://colab.research.google.com/assets/colab-badge.svg\" alt=\"Open In Colab\"/></a>"
      ]
    },
    {
      "cell_type": "markdown",
      "metadata": {
        "id": "zF6-l9_Q2MoI",
        "colab_type": "text"
      },
      "source": [
        "# Classification of satellite imagery tiles by transfer learning\n",
        "\n",
        "This notebook demonstrates classification of satellite imagery tiles by transfer learning with the VGG16 network trained on ImageNet.\n",
        "\n",
        "The workflow for obtaining and prepping the DeepSat-6 data from Kaggle is presented in [this notebook](https://github.com/LisaATaylor/naip-classify/blob/master/SatelliteImagery_DataPreparation.ipynb)."
      ]
    },
    {
      "cell_type": "code",
      "metadata": {
        "id": "54R24vdoGMYo",
        "colab_type": "code",
        "outputId": "aa4d2139-9123-48d7-aecd-47fa79027859",
        "colab": {
          "base_uri": "https://localhost:8080/",
          "height": 122
        }
      },
      "source": [
        "#save content to google drive to avoid downloading again\n",
        "from google.colab import drive\n",
        "drive.mount('/content/gdrive')"
      ],
      "execution_count": 2,
      "outputs": [
        {
          "output_type": "stream",
          "text": [
            "Go to this URL in a browser: https://accounts.google.com/o/oauth2/auth?client_id=947318989803-6bn6qk8qdgf4n4g3pfee6491hc0brc4i.apps.googleusercontent.com&redirect_uri=urn%3aietf%3awg%3aoauth%3a2.0%3aoob&response_type=code&scope=email%20https%3a%2f%2fwww.googleapis.com%2fauth%2fdocs.test%20https%3a%2f%2fwww.googleapis.com%2fauth%2fdrive%20https%3a%2f%2fwww.googleapis.com%2fauth%2fdrive.photos.readonly%20https%3a%2f%2fwww.googleapis.com%2fauth%2fpeopleapi.readonly\n",
            "\n",
            "Enter your authorization code:\n",
            "··········\n",
            "Mounted at /content/gdrive\n"
          ],
          "name": "stdout"
        }
      ]
    },
    {
      "cell_type": "code",
      "metadata": {
        "id": "0jF5UUMMGtJW",
        "colab_type": "code",
        "colab": {}
      },
      "source": [
        "from scipy.io import loadmat\n",
        "data=loadmat('/content/gdrive/My Drive/Springboard/Data/DeepSat6/sat-6-full.mat')"
      ],
      "execution_count": 0,
      "outputs": []
    },
    {
      "cell_type": "code",
      "metadata": {
        "id": "RFtAJ6qZG26_",
        "colab_type": "code",
        "colab": {}
      },
      "source": [
        "#split and process data\n",
        "import numpy as np\n",
        "import pandas as pd\n",
        "\n",
        "def fixaxes(inarr): #matlab format has long axis in last position, move to 1st to match tensorflow\n",
        "  return np.rollaxis(inarr,3,0)\n",
        "\n",
        "#load ndarrays from mat dictionary\n",
        "trainX=fixaxes(data['train_x']) \n",
        "trainy=data['train_y'].T\n",
        "testX=fixaxes(data['test_x'])\n",
        "testy = data['test_y'].T\n",
        "assert np.all(trainX[0,:10,0,0] == data['train_x'][:10,0,0,0])\n"
      ],
      "execution_count": 0,
      "outputs": []
    },
    {
      "cell_type": "code",
      "metadata": {
        "id": "0i4kaZko2qfA",
        "colab_type": "code",
        "colab": {}
      },
      "source": [
        "# get vector of categories for interpreting outputs\n",
        "anno=pd.read_csv('/content/gdrive/My Drive/Springboard/Data/DeepSat6/sat6annotations.csv',header=None)\n",
        "anno.head()\n",
        "categories=anno.loc[:,0].to_dict()\n",
        "ycat=pd.DataFrame(trainy).idxmax(axis=1).map(categories)"
      ],
      "execution_count": 0,
      "outputs": []
    },
    {
      "cell_type": "code",
      "metadata": {
        "id": "6KowkYFF2-lb",
        "colab_type": "code",
        "outputId": "3db2ca95-6158-495d-fdf2-635407364478",
        "colab": {
          "base_uri": "https://localhost:8080/",
          "height": 327
        }
      },
      "source": [
        "# look at a few tiles, visible bands\n",
        "import matplotlib.pyplot as plt \n",
        "fig,axs=plt.subplots(1,4,figsize=(20,10))\n",
        "axs[0].imshow(trainX[0,:,:,:3])\n",
        "axs[1].imshow(trainX[6,:,:,:3])\n",
        "axs[2].imshow(trainX[2,:,:,:3])\n",
        "axs[3].imshow(trainX[8,:,:,:3])\n",
        "axs[0].set_title(ycat.loc[0])\n",
        "axs[1].set_title(ycat.loc[6])\n",
        "axs[2].set_title(ycat.loc[2])\n",
        "axs[3].set_title(ycat.loc[8]);"
      ],
      "execution_count": 6,
      "outputs": [
        {
          "output_type": "display_data",
          "data": {
            "image/png": "[encoded data removed]",
            "text/plain": [
              "<Figure size 1440x720 with 4 Axes>"
            ]
          },
          "metadata": {
            "tags": []
          }
        }
      ]
    },
    {
      "cell_type": "markdown",
      "metadata": {
        "id": "w77XpPOhtsd-",
        "colab_type": "text"
      },
      "source": [
        "# Implement transfer learning with Keras\n",
        "\n",
        "A classification model is implemented using the VGG16 network with a dense classifier backend."
      ]
    },
    {
      "cell_type": "code",
      "metadata": {
        "id": "Sq_TrFE13Cip",
        "colab_type": "code",
        "outputId": "8d0aa36d-18d5-43a3-90a6-71e177197dbd",
        "colab": {
          "base_uri": "https://localhost:8080/",
          "height": 331
        }
      },
      "source": [
        "#look at balance between categories:  we see that the categories are not evenly distributed\n",
        "ycounts=ycat.value_counts()\n",
        "ycounts.plot.bar()\n",
        "plt.title('Distribution of categories in the DeepSat6 Dataset');"
      ],
      "execution_count": 7,
      "outputs": [
        {
          "output_type": "display_data",
          "data": {
            "image/png": "[encoded data removed]",
            "text/plain": [
              "<Figure size 432x288 with 1 Axes>"
            ]
          },
          "metadata": {
            "tags": []
          }
        }
      ]
    },
    {
      "cell_type": "code",
      "metadata": {
        "id": "BvNkch4tHjlo",
        "colab_type": "code",
        "colab": {}
      },
      "source": [
        "#get shuffled indices for train-val split\n",
        "import random\n",
        "nimg=len(trainX)\n",
        "ixs=list(range(nimg))\n",
        "random.shuffle(ixs)\n",
        "train_ix=ixs[:280000]\n",
        "val_ix=ixs[280000:]"
      ],
      "execution_count": 0,
      "outputs": []
    },
    {
      "cell_type": "code",
      "metadata": {
        "id": "SK9tcBitzlj2",
        "colab_type": "code",
        "colab": {
          "base_uri": "https://localhost:8080/",
          "height": 63
        },
        "outputId": "8fa0d549-acce-4e30-bf58-388b5d1396e8"
      },
      "source": [
        "#create generators to feed imagery to network\n",
        "from tensorflow.keras.preprocessing.image import ImageDataGenerator\n",
        "train_datagen = ImageDataGenerator(rescale=1./255)\n",
        "val_datagen = ImageDataGenerator(rescale=1./255)\n",
        "train_generator=train_datagen.flow(trainX[train_ix,:,:,:3],trainy[train_ix],batch_size=512) #puts 280,000 images in train, excludes IR band\n",
        "val_generator=val_datagen.flow(trainX[val_ix,:,:,:3],trainy[val_ix],batch_size=512) #puts 64,800 records in val\n"
      ],
      "execution_count": 10,
      "outputs": [
        {
          "output_type": "display_data",
          "data": {
            "text/html": [
              "<p style=\"color: red;\">\n",
              "The default version of TensorFlow in Colab will soon switch to TensorFlow 2.x.<br>\n",
              "We recommend you <a href=\"https://www.tensorflow.org/guide/migrate\" target=\"_blank\">upgrade</a> now \n",
              "or ensure your notebook will continue to use TensorFlow 1.x via the <code>%tensorflow_version 1.x</code> magic:\n",
              "<a href=\"https://colab.research.google.com/notebooks/tensorflow_version.ipynb\" target=\"_blank\">more info</a>.</p>\n"
            ],
            "text/plain": [
              "<IPython.core.display.HTML object>"
            ]
          },
          "metadata": {
            "tags": []
          }
        }
      ]
    },
    {
      "cell_type": "code",
      "metadata": {
        "id": "5z03EG8U3Fyp",
        "colab_type": "code",
        "outputId": "7dde1824-ff04-4c4e-b736-b81adf07f0ae",
        "colab": {
          "base_uri": "https://localhost:8080/",
          "height": 508
        }
      },
      "source": [
        "#Build CNN with transfer learning from VGG16 trained on imagenet\n",
        "from tensorflow.keras import models,layers\n",
        "from tensorflow.keras.applications import VGG16\n",
        "\n",
        "cbase=VGG16(weights='imagenet',include_top=False,input_shape=(56,56,3)) \n",
        "cbase.trainable=False # freeze convolutional base\n",
        "\n",
        "tmodel=models.Sequential()\n",
        "tmodel.add(layers.UpSampling3D((2,2,1),input_shape=(28,28,3))) #upsample so image is bigger than min size for VGG16\n",
        "tmodel.add(cbase)\n",
        "tmodel.add(layers.Flatten())\n",
        "\n",
        "tmodel.add(layers.Dense(512,activation='relu'))\n",
        "tmodel.add(layers.Dropout(0.5))\n",
        "tmodel.add(layers.Dense(6,activation='softmax'))\n",
        "tmodel.summary()"
      ],
      "execution_count": 9,
      "outputs": [
        {
          "output_type": "display_data",
          "data": {
            "text/html": [
              "<p style=\"color: red;\">\n",
              "The default version of TensorFlow in Colab will soon switch to TensorFlow 2.x.<br>\n",
              "We recommend you <a href=\"https://www.tensorflow.org/guide/migrate\" target=\"_blank\">upgrade</a> now \n",
              "or ensure your notebook will continue to use TensorFlow 1.x via the <code>%tensorflow_version 1.x</code> magic:\n",
              "<a href=\"https://colab.research.google.com/notebooks/tensorflow_version.ipynb\" target=\"_blank\">more info</a>.</p>\n"
            ],
            "text/plain": [
              "<IPython.core.display.HTML object>"
            ]
          },
          "metadata": {
            "tags": []
          }
        },
        {
          "output_type": "stream",
          "text": [
            "WARNING:tensorflow:From /usr/local/lib/python3.6/dist-packages/tensorflow_core/python/ops/resource_variable_ops.py:1630: calling BaseResourceVariable.__init__ (from tensorflow.python.ops.resource_variable_ops) with constraint is deprecated and will be removed in a future version.\n",
            "Instructions for updating:\n",
            "If using Keras pass *_constraint arguments to layers.\n",
            "Downloading data from https://github.com/fchollet/deep-learning-models/releases/download/v0.1/vgg16_weights_tf_dim_ordering_tf_kernels_notop.h5\n",
            "58892288/58889256 [==============================] - 5s 0us/step\n",
            "Model: \"sequential\"\n",
            "_________________________________________________________________\n",
            "Layer (type)                 Output Shape              Param #   \n",
            "=================================================================\n",
            "up_sampling3d (UpSampling3D) (None, 56, 56, 3)         0         \n",
            "_________________________________________________________________\n",
            "vgg16 (Model)                (None, 1, 1, 512)         14714688  \n",
            "_________________________________________________________________\n",
            "flatten (Flatten)            (None, 512)               0         \n",
            "_________________________________________________________________\n",
            "dense (Dense)                (None, 512)               262656    \n",
            "_________________________________________________________________\n",
            "dropout (Dropout)            (None, 512)               0         \n",
            "_________________________________________________________________\n",
            "dense_1 (Dense)              (None, 6)                 3078      \n",
            "=================================================================\n",
            "Total params: 14,980,422\n",
            "Trainable params: 265,734\n",
            "Non-trainable params: 14,714,688\n",
            "_________________________________________________________________\n"
          ],
          "name": "stdout"
        }
      ]
    },
    {
      "cell_type": "code",
      "metadata": {
        "id": "EZEtNJ0L4OFN",
        "colab_type": "code",
        "colab": {}
      },
      "source": [
        "#Compile model, load\n",
        "from tensorflow.keras import optimizers\n",
        "tmodel.compile(loss='categorical_crossentropy',optimizer=optimizers.RMSprop(lr=0.0001),metrics=['accuracy'])\n",
        "\n",
        "load_weights=True #load weights if not re-fitting\n",
        "if load_weights:\n",
        "    tmodel.load_weights('/content/gdrive/My Drive/Springboard/Data/DeepSat6/vgg_baseline.hdf5')"
      ],
      "execution_count": 0,
      "outputs": []
    },
    {
      "cell_type": "code",
      "metadata": {
        "id": "m6DpIjNv4OST",
        "colab_type": "code",
        "outputId": "0bee7782-ad36-418f-df3f-61e3caa93cf3",
        "colab": {
          "base_uri": "https://localhost:8080/",
          "height": 1000
        }
      },
      "source": [
        "from keras.callbacks import EarlyStopping\n",
        "early_stop_mon=EarlyStopping(patience=3)\n",
        "if load_weights!=True:\n",
        "    history=tmodel.fit_generator(train_generator,steps_per_epoch=545,epochs=30,validation_data=val_generator,validation_steps=20,callbacks=[early_stop_mon])"
      ],
      "execution_count": 17,
      "outputs": [
        {
          "output_type": "stream",
          "text": [
            "Epoch 1/30\n",
            "544/545 [============================>.] - ETA: 0s - loss: 0.5592 - acc: 0.7802Epoch 1/30\n",
            "545/545 [==============================] - 54s 99ms/step - loss: 0.5588 - acc: 0.7804 - val_loss: 0.3242 - val_acc: 0.8651\n",
            "Epoch 2/30\n",
            "544/545 [============================>.] - ETA: 0s - loss: 0.3011 - acc: 0.8785Epoch 1/30\n",
            "545/545 [==============================] - 46s 84ms/step - loss: 0.3010 - acc: 0.8785 - val_loss: 0.2480 - val_acc: 0.9042\n",
            "Epoch 3/30\n",
            "544/545 [============================>.] - ETA: 0s - loss: 0.2445 - acc: 0.9054Epoch 1/30\n",
            "545/545 [==============================] - 46s 84ms/step - loss: 0.2445 - acc: 0.9054 - val_loss: 0.2097 - val_acc: 0.9194\n",
            "Epoch 4/30\n",
            "544/545 [============================>.] - ETA: 0s - loss: 0.2137 - acc: 0.9202Epoch 1/30\n",
            "545/545 [==============================] - 46s 84ms/step - loss: 0.2137 - acc: 0.9202 - val_loss: 0.1875 - val_acc: 0.9305\n",
            "Epoch 5/30\n",
            "544/545 [============================>.] - ETA: 0s - loss: 0.1937 - acc: 0.9285Epoch 1/30\n",
            "545/545 [==============================] - 46s 84ms/step - loss: 0.1937 - acc: 0.9285 - val_loss: 0.1742 - val_acc: 0.9348\n",
            "Epoch 6/30\n",
            "544/545 [============================>.] - ETA: 0s - loss: 0.1797 - acc: 0.9339Epoch 1/30\n",
            "545/545 [==============================] - 46s 84ms/step - loss: 0.1797 - acc: 0.9340 - val_loss: 0.1615 - val_acc: 0.9415\n",
            "Epoch 7/30\n",
            "544/545 [============================>.] - ETA: 0s - loss: 0.1691 - acc: 0.9376Epoch 1/30\n",
            "545/545 [==============================] - 46s 84ms/step - loss: 0.1691 - acc: 0.9376 - val_loss: 0.1538 - val_acc: 0.9440\n",
            "Epoch 8/30\n",
            "544/545 [============================>.] - ETA: 0s - loss: 0.1615 - acc: 0.9406Epoch 1/30\n",
            "545/545 [==============================] - 46s 84ms/step - loss: 0.1615 - acc: 0.9407 - val_loss: 0.1471 - val_acc: 0.9478\n",
            "Epoch 9/30\n",
            "544/545 [============================>.] - ETA: 0s - loss: 0.1549 - acc: 0.9429Epoch 1/30\n",
            "545/545 [==============================] - 46s 84ms/step - loss: 0.1549 - acc: 0.9429 - val_loss: 0.1424 - val_acc: 0.9466\n",
            "Epoch 10/30\n",
            "544/545 [============================>.] - ETA: 0s - loss: 0.1481 - acc: 0.9451Epoch 1/30\n",
            "545/545 [==============================] - 46s 84ms/step - loss: 0.1481 - acc: 0.9451 - val_loss: 0.1368 - val_acc: 0.9492\n",
            "Epoch 11/30\n",
            "544/545 [============================>.] - ETA: 0s - loss: 0.1439 - acc: 0.9469Epoch 1/30\n",
            "545/545 [==============================] - 46s 84ms/step - loss: 0.1439 - acc: 0.9469 - val_loss: 0.1336 - val_acc: 0.9503\n",
            "Epoch 12/30\n",
            "544/545 [============================>.] - ETA: 0s - loss: 0.1395 - acc: 0.9481Epoch 1/30\n",
            "545/545 [==============================] - 46s 84ms/step - loss: 0.1395 - acc: 0.9482 - val_loss: 0.1299 - val_acc: 0.9527\n",
            "Epoch 13/30\n",
            "544/545 [============================>.] - ETA: 0s - loss: 0.1353 - acc: 0.9501Epoch 1/30\n",
            "545/545 [==============================] - 46s 84ms/step - loss: 0.1352 - acc: 0.9501 - val_loss: 0.1273 - val_acc: 0.9520\n",
            "Epoch 14/30\n",
            "544/545 [============================>.] - ETA: 0s - loss: 0.1325 - acc: 0.9510Epoch 1/30\n",
            "545/545 [==============================] - 46s 84ms/step - loss: 0.1325 - acc: 0.9510 - val_loss: 0.1246 - val_acc: 0.9529\n",
            "Epoch 15/30\n",
            "544/545 [============================>.] - ETA: 0s - loss: 0.1291 - acc: 0.9523Epoch 1/30\n",
            "545/545 [==============================] - 46s 84ms/step - loss: 0.1291 - acc: 0.9523 - val_loss: 0.1214 - val_acc: 0.9541\n",
            "Epoch 16/30\n",
            "544/545 [============================>.] - ETA: 0s - loss: 0.1263 - acc: 0.9534Epoch 1/30\n",
            "545/545 [==============================] - 46s 84ms/step - loss: 0.1263 - acc: 0.9535 - val_loss: 0.1194 - val_acc: 0.9560\n",
            "Epoch 17/30\n",
            "544/545 [============================>.] - ETA: 0s - loss: 0.1237 - acc: 0.9541Epoch 1/30\n",
            "545/545 [==============================] - 46s 84ms/step - loss: 0.1237 - acc: 0.9541 - val_loss: 0.1171 - val_acc: 0.9560\n",
            "Epoch 18/30\n",
            "544/545 [============================>.] - ETA: 0s - loss: 0.1220 - acc: 0.9546Epoch 1/30\n",
            "545/545 [==============================] - 46s 84ms/step - loss: 0.1220 - acc: 0.9546 - val_loss: 0.1157 - val_acc: 0.9565\n",
            "Epoch 19/30\n",
            "544/545 [============================>.] - ETA: 0s - loss: 0.1190 - acc: 0.9558Epoch 1/30\n",
            "545/545 [==============================] - 46s 84ms/step - loss: 0.1190 - acc: 0.9559 - val_loss: 0.1141 - val_acc: 0.9572\n",
            "Epoch 20/30\n",
            "544/545 [============================>.] - ETA: 0s - loss: 0.1177 - acc: 0.9564Epoch 1/30\n",
            "545/545 [==============================] - 46s 84ms/step - loss: 0.1177 - acc: 0.9564 - val_loss: 0.1129 - val_acc: 0.9577\n",
            "Epoch 21/30\n",
            "544/545 [============================>.] - ETA: 0s - loss: 0.1153 - acc: 0.9572Epoch 1/30\n",
            "545/545 [==============================] - 46s 84ms/step - loss: 0.1153 - acc: 0.9572 - val_loss: 0.1109 - val_acc: 0.9577\n",
            "Epoch 22/30\n",
            "544/545 [============================>.] - ETA: 0s - loss: 0.1140 - acc: 0.9579Epoch 1/30\n",
            "545/545 [==============================] - 46s 84ms/step - loss: 0.1139 - acc: 0.9579 - val_loss: 0.1098 - val_acc: 0.9581\n",
            "Epoch 23/30\n",
            "544/545 [============================>.] - ETA: 0s - loss: 0.1127 - acc: 0.9581Epoch 1/30\n",
            "545/545 [==============================] - 46s 84ms/step - loss: 0.1126 - acc: 0.9581 - val_loss: 0.1089 - val_acc: 0.9592\n",
            "Epoch 24/30\n",
            "544/545 [============================>.] - ETA: 0s - loss: 0.1108 - acc: 0.9593Epoch 1/30\n",
            "545/545 [==============================] - 46s 84ms/step - loss: 0.1108 - acc: 0.9593 - val_loss: 0.1066 - val_acc: 0.9595\n",
            "Epoch 25/30\n",
            "544/545 [============================>.] - ETA: 0s - loss: 0.1092 - acc: 0.9596Epoch 1/30\n",
            "545/545 [==============================] - 46s 84ms/step - loss: 0.1092 - acc: 0.9596 - val_loss: 0.1057 - val_acc: 0.9612\n",
            "Epoch 26/30\n",
            "544/545 [============================>.] - ETA: 0s - loss: 0.1078 - acc: 0.9600Epoch 1/30\n",
            "545/545 [==============================] - 46s 84ms/step - loss: 0.1078 - acc: 0.9600 - val_loss: 0.1043 - val_acc: 0.9612\n",
            "Epoch 27/30\n",
            "544/545 [============================>.] - ETA: 0s - loss: 0.1060 - acc: 0.9608Epoch 1/30\n",
            "545/545 [==============================] - 46s 84ms/step - loss: 0.1060 - acc: 0.9608 - val_loss: 0.1033 - val_acc: 0.9616\n",
            "Epoch 28/30\n",
            "544/545 [============================>.] - ETA: 0s - loss: 0.1062 - acc: 0.9610Epoch 1/30\n",
            "545/545 [==============================] - 46s 84ms/step - loss: 0.1062 - acc: 0.9610 - val_loss: 0.1017 - val_acc: 0.9623\n",
            "Epoch 29/30\n",
            "544/545 [============================>.] - ETA: 0s - loss: 0.1038 - acc: 0.9616Epoch 1/30\n",
            "545/545 [==============================] - 46s 84ms/step - loss: 0.1038 - acc: 0.9616 - val_loss: 0.1014 - val_acc: 0.9616\n",
            "Epoch 30/30\n",
            "544/545 [============================>.] - ETA: 0s - loss: 0.1035 - acc: 0.9617Epoch 1/30\n",
            "545/545 [==============================] - 46s 84ms/step - loss: 0.1035 - acc: 0.9617 - val_loss: 0.0996 - val_acc: 0.9630\n"
          ],
          "name": "stdout"
        }
      ]
    },
    {
      "cell_type": "code",
      "metadata": {
        "id": "2Hmi5nl14OfR",
        "colab_type": "code",
        "colab": {}
      },
      "source": [
        "save_weights=True\n",
        "if save_weights:\n",
        "    tmodel.save_weights('/content/gdrive/My Drive/Springboard/Data/DeepSat6/vgg_baseline.hdf5')\n",
        "    #dump history too\n",
        "    hist_df=pd.DataFrame.from_dict(history.history)\n",
        "    hist_df.to_csv('/content/gdrive/My Drive/Springboard/Data/DeepSat6/vgg_history.csv')\n"
      ],
      "execution_count": 0,
      "outputs": []
    },
    {
      "cell_type": "code",
      "metadata": {
        "id": "tJ99vu8Vq6Gh",
        "colab_type": "code",
        "colab": {}
      },
      "source": [
        "tmodel.load_weights('/content/gdrive/My Drive/Springboard/Data/DeepSat6/vgg_baseline.hdf5')\n"
      ],
      "execution_count": 0,
      "outputs": []
    },
    {
      "cell_type": "code",
      "metadata": {
        "id": "C2xxN5IPrGNz",
        "colab_type": "code",
        "colab": {}
      },
      "source": [
        "hist=pd.read_csv('/content/gdrive/My Drive/Springboard/Data/DeepSat6/vgg_history.csv')"
      ],
      "execution_count": 0,
      "outputs": []
    },
    {
      "cell_type": "markdown",
      "metadata": {
        "id": "ln6TmfZ8uhca",
        "colab_type": "text"
      },
      "source": [
        "# Evaluate model fit\n",
        "\n",
        "The accuracy and loss metrics saved to the history variable over the course of model fitting are plotted to observe the improvement in model fit over each training iteration, and to check for overfitting."
      ]
    },
    {
      "cell_type": "code",
      "metadata": {
        "id": "XS7sVaJ_6vL5",
        "colab_type": "code",
        "outputId": "2c480cab-cdab-4a76-d848-c0c2ff2e46c7",
        "colab": {
          "base_uri": "https://localhost:8080/",
          "height": 370
        }
      },
      "source": [
        "# Plot progression of model fit over each epoch\n",
        "# adapted from Deep Learning With Python (Chollet)\n",
        "h=hist#history.history\n",
        "epochs = range(len(h['acc']))\n",
        "fig,ax=plt.subplots(1,2,figsize=(13,5))\n",
        "ax[0].plot(epochs, h['acc'], 'r', label='Training')\n",
        "ax[0].plot(epochs, h['val_acc'], 'b', label='Validation')\n",
        "ax[0].set_title('Accuracy')\n",
        "ax[0].set_xlabel('Epochs')\n",
        "ax[0].legend()\n",
        "ax[1].plot(epochs, h['loss'], 'r', label='Training')\n",
        "ax[1].plot(epochs, h['val_loss'], 'b', label='Validation')\n",
        "ax[1].set_title('Loss')\n",
        "ax[1].set_xlabel('Epochs')\n",
        "ax[1].legend()\n",
        "plt.suptitle('Evaluation of Model Fit Over 30 Epochs');\n"
      ],
      "execution_count": 15,
      "outputs": [
        {
          "output_type": "display_data",
          "data": {
            "image/png": "[encoded data removed]",
            "text/plain": [
              "<Figure size 936x360 with 2 Axes>"
            ]
          },
          "metadata": {
            "tags": []
          }
        }
      ]
    },
    {
      "cell_type": "markdown",
      "metadata": {
        "id": "SumPdrtyu5nP",
        "colab_type": "text"
      },
      "source": [
        "#Evaluate held-out data\n",
        "\n",
        "The model is applied to classify the DeepSat-6 training dataset."
      ]
    },
    {
      "cell_type": "code",
      "metadata": {
        "id": "teh0V9tztwmR",
        "colab_type": "code",
        "colab": {}
      },
      "source": [
        "# Look at predictions on held-out data\n",
        "testX_rescaled=testX[:,:,:,:3]/255\n",
        "predy=tmodel.predict(testX_rescaled)"
      ],
      "execution_count": 0,
      "outputs": []
    },
    {
      "cell_type": "code",
      "metadata": {
        "id": "52b6HeIqjS_z",
        "colab_type": "code",
        "colab": {}
      },
      "source": [
        "#get pd Series of predicted and actual categories for test dataset\n",
        "testycat=pd.DataFrame(testy).idxmax(axis=1).map(categories) #actual\n",
        "testycat_pred=pd.DataFrame(predy).idxmax(axis=1).map(categories) #pred"
      ],
      "execution_count": 0,
      "outputs": []
    },
    {
      "cell_type": "code",
      "metadata": {
        "id": "usGIgSQe7t7V",
        "colab_type": "code",
        "outputId": "6e7248df-2c79-4209-e6f1-545863e99ebf",
        "colab": {
          "base_uri": "https://localhost:8080/",
          "height": 337
        }
      },
      "source": [
        "#Plot comparison of pred vs actual on test\n",
        "pred_df=testycat_pred.value_counts()\n",
        "act_df=testycat.value_counts()\n",
        "fig,ax=plt.subplots(figsize=(10,5))\n",
        "ind=np.arange(6)\n",
        "width=0.35\n",
        "pred=ax.bar(ind+width,pred_df.values,width=width,label='predicted')\n",
        "act=ax.bar(ind,act_df.values,width=width,label='actual')\n",
        "ax.set_xticks(ind+width/2)\n",
        "ax.set_xticklabels(pred_df.index)\n",
        "ax.legend()\n",
        "ax.set_title('Comparison of predicted and actual categories on test dataset');"
      ],
      "execution_count": 15,
      "outputs": [
        {
          "output_type": "display_data",
          "data": {
            "image/png": "[encoded data removed]",
            "text/plain": [
              "<Figure size 720x360 with 1 Axes>"
            ]
          },
          "metadata": {
            "tags": []
          }
        }
      ]
    },
    {
      "cell_type": "code",
      "metadata": {
        "id": "NfMAqXhN7uJq",
        "colab_type": "code",
        "outputId": "50f34fc0-7fad-415a-b693-c299c5478a14",
        "colab": {
          "base_uri": "https://localhost:8080/",
          "height": 204
        }
      },
      "source": [
        "#get prediction errors\n",
        "compare_df=pd.concat([testycat,testycat_pred],axis=1)\n",
        "compare_df.columns=['actual','predicted']\n",
        "compare_df=compare_df.assign(mismatch=compare_df.actual!=compare_df.predicted)\n",
        "compare_df.loc[compare_df.mismatch].head()"
      ],
      "execution_count": 16,
      "outputs": [
        {
          "output_type": "execute_result",
          "data": {
            "text/html": [
              "<div>\n",
              "<style scoped>\n",
              "    .dataframe tbody tr th:only-of-type {\n",
              "        vertical-align: middle;\n",
              "    }\n",
              "\n",
              "    .dataframe tbody tr th {\n",
              "        vertical-align: top;\n",
              "    }\n",
              "\n",
              "    .dataframe thead th {\n",
              "        text-align: right;\n",
              "    }\n",
              "</style>\n",
              "<table border=\"1\" class=\"dataframe\">\n",
              "  <thead>\n",
              "    <tr style=\"text-align: right;\">\n",
              "      <th></th>\n",
              "      <th>actual</th>\n",
              "      <th>predicted</th>\n",
              "      <th>mismatch</th>\n",
              "    </tr>\n",
              "  </thead>\n",
              "  <tbody>\n",
              "    <tr>\n",
              "      <th>34</th>\n",
              "      <td>building</td>\n",
              "      <td>barren_land</td>\n",
              "      <td>True</td>\n",
              "    </tr>\n",
              "    <tr>\n",
              "      <th>37</th>\n",
              "      <td>barren_land</td>\n",
              "      <td>grassland</td>\n",
              "      <td>True</td>\n",
              "    </tr>\n",
              "    <tr>\n",
              "      <th>43</th>\n",
              "      <td>grassland</td>\n",
              "      <td>barren_land</td>\n",
              "      <td>True</td>\n",
              "    </tr>\n",
              "    <tr>\n",
              "      <th>84</th>\n",
              "      <td>barren_land</td>\n",
              "      <td>grassland</td>\n",
              "      <td>True</td>\n",
              "    </tr>\n",
              "    <tr>\n",
              "      <th>92</th>\n",
              "      <td>barren_land</td>\n",
              "      <td>grassland</td>\n",
              "      <td>True</td>\n",
              "    </tr>\n",
              "  </tbody>\n",
              "</table>\n",
              "</div>"
            ],
            "text/plain": [
              "         actual    predicted  mismatch\n",
              "34     building  barren_land      True\n",
              "37  barren_land    grassland      True\n",
              "43    grassland  barren_land      True\n",
              "84  barren_land    grassland      True\n",
              "92  barren_land    grassland      True"
            ]
          },
          "metadata": {
            "tags": []
          },
          "execution_count": 16
        }
      ]
    },
    {
      "cell_type": "code",
      "metadata": {
        "id": "jvxjorO-Hhjb",
        "colab_type": "code",
        "colab": {
          "base_uri": "https://localhost:8080/",
          "height": 359
        },
        "outputId": "d610d63e-caf4-4a0b-858e-3670f50baf0b"
      },
      "source": [
        "#combine dfs, look at probabilities for mismatch cases\n",
        "#the second highest probability is often the correct classification\n",
        "pd.set_option('display.float_format', lambda x:'%.3f' % x)\n",
        "pred_df=pd.concat([pd.DataFrame(predy,columns=categories.values()),compare_df],axis=1)\n",
        "pred_df.loc[pred_df.mismatch==True].head(10)\n",
        "#additional work: create column with rank of the actual class, prove that it is often #2 "
      ],
      "execution_count": 37,
      "outputs": [
        {
          "output_type": "execute_result",
          "data": {
            "text/html": [
              "<div>\n",
              "<style scoped>\n",
              "    .dataframe tbody tr th:only-of-type {\n",
              "        vertical-align: middle;\n",
              "    }\n",
              "\n",
              "    .dataframe tbody tr th {\n",
              "        vertical-align: top;\n",
              "    }\n",
              "\n",
              "    .dataframe thead th {\n",
              "        text-align: right;\n",
              "    }\n",
              "</style>\n",
              "<table border=\"1\" class=\"dataframe\">\n",
              "  <thead>\n",
              "    <tr style=\"text-align: right;\">\n",
              "      <th></th>\n",
              "      <th>building</th>\n",
              "      <th>barren_land</th>\n",
              "      <th>trees</th>\n",
              "      <th>grassland</th>\n",
              "      <th>road</th>\n",
              "      <th>water</th>\n",
              "      <th>actual</th>\n",
              "      <th>predicted</th>\n",
              "      <th>mismatch</th>\n",
              "    </tr>\n",
              "  </thead>\n",
              "  <tbody>\n",
              "    <tr>\n",
              "      <th>34</th>\n",
              "      <td>0.482</td>\n",
              "      <td>0.505</td>\n",
              "      <td>0.000</td>\n",
              "      <td>0.012</td>\n",
              "      <td>0.001</td>\n",
              "      <td>0.000</td>\n",
              "      <td>building</td>\n",
              "      <td>barren_land</td>\n",
              "      <td>True</td>\n",
              "    </tr>\n",
              "    <tr>\n",
              "      <th>37</th>\n",
              "      <td>0.000</td>\n",
              "      <td>0.151</td>\n",
              "      <td>0.022</td>\n",
              "      <td>0.827</td>\n",
              "      <td>0.000</td>\n",
              "      <td>0.000</td>\n",
              "      <td>barren_land</td>\n",
              "      <td>grassland</td>\n",
              "      <td>True</td>\n",
              "    </tr>\n",
              "    <tr>\n",
              "      <th>43</th>\n",
              "      <td>0.000</td>\n",
              "      <td>0.598</td>\n",
              "      <td>0.001</td>\n",
              "      <td>0.402</td>\n",
              "      <td>0.000</td>\n",
              "      <td>0.000</td>\n",
              "      <td>grassland</td>\n",
              "      <td>barren_land</td>\n",
              "      <td>True</td>\n",
              "    </tr>\n",
              "    <tr>\n",
              "      <th>84</th>\n",
              "      <td>0.000</td>\n",
              "      <td>0.125</td>\n",
              "      <td>0.003</td>\n",
              "      <td>0.872</td>\n",
              "      <td>0.000</td>\n",
              "      <td>0.000</td>\n",
              "      <td>barren_land</td>\n",
              "      <td>grassland</td>\n",
              "      <td>True</td>\n",
              "    </tr>\n",
              "    <tr>\n",
              "      <th>92</th>\n",
              "      <td>0.000</td>\n",
              "      <td>0.119</td>\n",
              "      <td>0.001</td>\n",
              "      <td>0.881</td>\n",
              "      <td>0.000</td>\n",
              "      <td>0.000</td>\n",
              "      <td>barren_land</td>\n",
              "      <td>grassland</td>\n",
              "      <td>True</td>\n",
              "    </tr>\n",
              "    <tr>\n",
              "      <th>106</th>\n",
              "      <td>0.101</td>\n",
              "      <td>0.891</td>\n",
              "      <td>0.000</td>\n",
              "      <td>0.000</td>\n",
              "      <td>0.007</td>\n",
              "      <td>0.000</td>\n",
              "      <td>building</td>\n",
              "      <td>barren_land</td>\n",
              "      <td>True</td>\n",
              "    </tr>\n",
              "    <tr>\n",
              "      <th>114</th>\n",
              "      <td>0.000</td>\n",
              "      <td>0.816</td>\n",
              "      <td>0.002</td>\n",
              "      <td>0.182</td>\n",
              "      <td>0.000</td>\n",
              "      <td>0.000</td>\n",
              "      <td>grassland</td>\n",
              "      <td>barren_land</td>\n",
              "      <td>True</td>\n",
              "    </tr>\n",
              "    <tr>\n",
              "      <th>152</th>\n",
              "      <td>0.763</td>\n",
              "      <td>0.000</td>\n",
              "      <td>0.000</td>\n",
              "      <td>0.000</td>\n",
              "      <td>0.237</td>\n",
              "      <td>0.000</td>\n",
              "      <td>road</td>\n",
              "      <td>building</td>\n",
              "      <td>True</td>\n",
              "    </tr>\n",
              "    <tr>\n",
              "      <th>203</th>\n",
              "      <td>0.000</td>\n",
              "      <td>0.113</td>\n",
              "      <td>0.059</td>\n",
              "      <td>0.828</td>\n",
              "      <td>0.000</td>\n",
              "      <td>0.000</td>\n",
              "      <td>trees</td>\n",
              "      <td>grassland</td>\n",
              "      <td>True</td>\n",
              "    </tr>\n",
              "    <tr>\n",
              "      <th>212</th>\n",
              "      <td>0.001</td>\n",
              "      <td>0.257</td>\n",
              "      <td>0.003</td>\n",
              "      <td>0.740</td>\n",
              "      <td>0.000</td>\n",
              "      <td>0.000</td>\n",
              "      <td>barren_land</td>\n",
              "      <td>grassland</td>\n",
              "      <td>True</td>\n",
              "    </tr>\n",
              "  </tbody>\n",
              "</table>\n",
              "</div>"
            ],
            "text/plain": [
              "     building  barren_land  trees  ...       actual    predicted  mismatch\n",
              "34      0.482        0.505  0.000  ...     building  barren_land      True\n",
              "37      0.000        0.151  0.022  ...  barren_land    grassland      True\n",
              "43      0.000        0.598  0.001  ...    grassland  barren_land      True\n",
              "84      0.000        0.125  0.003  ...  barren_land    grassland      True\n",
              "92      0.000        0.119  0.001  ...  barren_land    grassland      True\n",
              "106     0.101        0.891  0.000  ...     building  barren_land      True\n",
              "114     0.000        0.816  0.002  ...    grassland  barren_land      True\n",
              "152     0.763        0.000  0.000  ...         road     building      True\n",
              "203     0.000        0.113  0.059  ...        trees    grassland      True\n",
              "212     0.001        0.257  0.003  ...  barren_land    grassland      True\n",
              "\n",
              "[10 rows x 9 columns]"
            ]
          },
          "metadata": {
            "tags": []
          },
          "execution_count": 37
        }
      ]
    },
    {
      "cell_type": "code",
      "metadata": {
        "id": "qO9UFDOFs_iD",
        "colab_type": "code",
        "outputId": "8df39af3-28ce-40c0-faff-b0c5648c27b8",
        "colab": {
          "base_uri": "https://localhost:8080/",
          "height": 68
        }
      },
      "source": [
        "#overall total of correct vs incorrect predictions\n",
        "compare_df['mismatch'].value_counts()"
      ],
      "execution_count": 20,
      "outputs": [
        {
          "output_type": "execute_result",
          "data": {
            "text/plain": [
              "False    78046\n",
              "True      2954\n",
              "Name: mismatch, dtype: int64"
            ]
          },
          "metadata": {
            "tags": []
          },
          "execution_count": 20
        }
      ]
    },
    {
      "cell_type": "code",
      "metadata": {
        "id": "IRQ_e3Qo7yUh",
        "colab_type": "code",
        "outputId": "4d859dd3-67d3-45b3-a92b-ad083cea26da",
        "colab": {
          "base_uri": "https://localhost:8080/",
          "height": 34
        }
      },
      "source": [
        "#accuracy on test dataset\n",
        "print('Overall accuracy on test dataset: {0:.3f}'.format(1-(compare_df.mismatch.sum()/compare_df.mismatch.count())))"
      ],
      "execution_count": 22,
      "outputs": [
        {
          "output_type": "stream",
          "text": [
            "Overall accuracy on test dataset: 0.964\n"
          ],
          "name": "stdout"
        }
      ]
    },
    {
      "cell_type": "code",
      "metadata": {
        "id": "0mFI9FNp7yao",
        "colab_type": "code",
        "outputId": "6685aa17-d761-453c-8586-bf5df853b41d",
        "colab": {
          "base_uri": "https://localhost:8080/",
          "height": 544
        }
      },
      "source": [
        "# Look at confusion matrix, classification report\n",
        "from sklearn.metrics import classification_report,confusion_matrix\n",
        "print('Classification Report:')\n",
        "print(classification_report(testycat,testycat_pred))\n",
        "print('Confusion Matrix:')\n",
        "print(confusion_matrix(testycat,testycat_pred))\n",
        "print('\\nNumber of Correct Classifications:')\n",
        "correct=compare_df.loc[~compare_df.mismatch].groupby(['actual','predicted']).count()\n",
        "correct.columns=['Correct']\n",
        "print(correct) #check order of entries along diagonal of confusion matrix"
      ],
      "execution_count": 23,
      "outputs": [
        {
          "output_type": "stream",
          "text": [
            "Classification Report:\n",
            "              precision    recall  f1-score   support\n",
            "\n",
            " barren_land       0.94      0.94      0.94     18367\n",
            "    building       0.95      0.96      0.95      3714\n",
            "   grassland       0.91      0.91      0.91     12596\n",
            "        road       0.96      0.93      0.94      2070\n",
            "       trees       0.97      0.97      0.97     14185\n",
            "       water       1.00      1.00      1.00     30068\n",
            "\n",
            "    accuracy                           0.96     81000\n",
            "   macro avg       0.95      0.95      0.95     81000\n",
            "weighted avg       0.96      0.96      0.96     81000\n",
            "\n",
            "Confusion Matrix:\n",
            "[[17321    37   852     7   147     3]\n",
            " [   63  3561     3    76     6     5]\n",
            " [  887    14 11411     6   277     1]\n",
            " [   15   121     8  1919     4     3]\n",
            " [   85     7   293     0 13779    21]\n",
            " [    0     4     0     0     9 30055]]\n",
            "\n",
            "Number of Correct Classifications:\n",
            "                         Correct\n",
            "actual      predicted           \n",
            "barren_land barren_land    17321\n",
            "building    building        3561\n",
            "grassland   grassland      11411\n",
            "road        road            1919\n",
            "trees       trees          13779\n",
            "water       water          30055\n"
          ],
          "name": "stdout"
        }
      ]
    },
    {
      "cell_type": "code",
      "metadata": {
        "id": "3iN8X7d97yYP",
        "colab_type": "code",
        "outputId": "b1bc20c7-6435-46c8-928b-e459aff4907a",
        "colab": {
          "base_uri": "https://localhost:8080/",
          "height": 241
        }
      },
      "source": [
        "# grasslands have slightly lower recall wrt other categories \n",
        "gl_mismatch=compare_df.loc[(compare_df.mismatch)&(compare_df.actual=='grassland')]\n",
        "print(gl_mismatch['predicted'].value_counts()) #roads most often misclassified as buildings\n",
        "gl_mismatch['ixcopy']=gl_mismatch.index\n",
        "mismatches=gl_mismatch.groupby('predicted')['ixcopy'].first()"
      ],
      "execution_count": 24,
      "outputs": [
        {
          "output_type": "stream",
          "text": [
            "barren_land    887\n",
            "trees          277\n",
            "building        14\n",
            "road             6\n",
            "water            1\n",
            "Name: predicted, dtype: int64\n"
          ],
          "name": "stdout"
        },
        {
          "output_type": "stream",
          "text": [
            "/usr/local/lib/python3.6/dist-packages/ipykernel_launcher.py:3: SettingWithCopyWarning: \n",
            "A value is trying to be set on a copy of a slice from a DataFrame.\n",
            "Try using .loc[row_indexer,col_indexer] = value instead\n",
            "\n",
            "See the caveats in the documentation: http://pandas.pydata.org/pandas-docs/stable/user_guide/indexing.html#returning-a-view-versus-a-copy\n",
            "  This is separate from the ipykernel package so we can avoid doing imports until\n"
          ],
          "name": "stderr"
        }
      ]
    },
    {
      "cell_type": "code",
      "metadata": {
        "id": "LaGqaC5L8bLr",
        "colab_type": "code",
        "outputId": "baca1982-22a6-4c1e-de3b-a0e7f128e2e0",
        "colab": {
          "base_uri": "https://localhost:8080/",
          "height": 324
        }
      },
      "source": [
        "#view some mismatches\n",
        "fig,axs=plt.subplots(1,5,figsize=(25,10))\n",
        "axix=0\n",
        "for i,v in mismatches.iteritems():\n",
        "  axs[axix].imshow(testX[v,:,:,:3])\n",
        "  axs[axix].set_title('Grassland misclassified as {}'.format(i))\n",
        "  axix+=1"
      ],
      "execution_count": 25,
      "outputs": [
        {
          "output_type": "display_data",
          "data": {
            "image/png": "[encoded data removed]",
            "text/plain": [
              "<Figure size 1800x720 with 5 Axes>"
            ]
          },
          "metadata": {
            "tags": []
          }
        }
      ]
    },
    {
      "cell_type": "code",
      "metadata": {
        "id": "B5qnnwYY8gP1",
        "colab_type": "code",
        "colab": {}
      },
      "source": [
        ""
      ],
      "execution_count": 0,
      "outputs": []
    },
    {
      "cell_type": "code",
      "metadata": {
        "id": "gUhMgciT3dgj",
        "colab_type": "code",
        "colab": {}
      },
      "source": [
        ""
      ],
      "execution_count": 0,
      "outputs": []
    }
  ]
}