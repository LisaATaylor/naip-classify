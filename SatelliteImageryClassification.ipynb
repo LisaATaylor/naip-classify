{
  "nbformat": 4,
  "nbformat_minor": 0,
  "metadata": {
    "colab": {
      "name": "SatelliteImageryClassification.ipynb",
      "provenance": [],
      "collapsed_sections": [],
      "machine_shape": "hm",
      "include_colab_link": true
    },
    "kernelspec": {
      "name": "python3",
      "display_name": "Python 3"
    },
    "accelerator": "GPU"
  },
  "cells": [
    {
      "cell_type": "markdown",
      "metadata": {
        "id": "view-in-github",
        "colab_type": "text"
      },
      "source": [
        "<a href=\"https://colab.research.google.com/github/LisaATaylor/naip-classify/blob/master/SatelliteImageryClassification.ipynb\" target=\"_parent\"><img src=\"https://colab.research.google.com/assets/colab-badge.svg\" alt=\"Open In Colab\"/></a>"
      ]
    },
    {
      "cell_type": "markdown",
      "metadata": {
        "id": "zF6-l9_Q2MoI",
        "colab_type": "text"
      },
      "source": [
        "Classification of satellite imagery tiles"
      ]
    },
    {
      "cell_type": "markdown",
      "metadata": {
        "id": "NRvHJFTS-EeN",
        "colab_type": "text"
      },
      "source": [
        "The first few cells are the workflow for getting the DeepSat6 data from Kaggle."
      ]
    },
    {
      "cell_type": "code",
      "metadata": {
        "id": "vXbL4gqDzQqd",
        "colab_type": "code",
        "colab": {}
      },
      "source": [
        "initialsetup=False\n",
        "if initialdownload:\n",
        "  from google.colab import files\n",
        "  #install kaggle\n",
        "  !pip install -q kaggle\n",
        "  #load kaggle API json\n",
        "  uploaded = files.upload()"
      ],
      "execution_count": 0,
      "outputs": []
    },
    {
      "cell_type": "code",
      "metadata": {
        "colab_type": "code",
        "id": "rRgMjSIqREwh",
        "colab": {}
      },
      "source": [
        "if initialsetup:\n",
        "  !mkdir -p ~/.kaggle\n",
        "  !cp kaggle.json ~/.kaggle\n",
        "  !chmod 600 ~/.kaggle/kaggle.json\n",
        "  !kaggle datasets download -d crawford/deepsat-sat6\n",
        "  !unzip /content/*.zip"
      ],
      "execution_count": 0,
      "outputs": []
    },
    {
      "cell_type": "code",
      "metadata": {
        "id": "54R24vdoGMYo",
        "colab_type": "code",
        "outputId": "c18decac-60ea-44f7-f06f-e9d409f8d48a",
        "colab": {
          "base_uri": "https://localhost:8080/",
          "height": 122
        }
      },
      "source": [
        "#save content to google drive to avoid downloading again\n",
        "from google.colab import drive\n",
        "drive.mount('/content/gdrive')"
      ],
      "execution_count": 0,
      "outputs": [
        {
          "output_type": "stream",
          "text": [
            "Go to this URL in a browser: https://accounts.google.com/o/oauth2/auth?client_id=947318989803-6bn6qk8qdgf4n4g3pfee6491hc0brc4i.apps.googleusercontent.com&redirect_uri=urn%3aietf%3awg%3aoauth%3a2.0%3aoob&response_type=code&scope=email%20https%3a%2f%2fwww.googleapis.com%2fauth%2fdocs.test%20https%3a%2f%2fwww.googleapis.com%2fauth%2fdrive%20https%3a%2f%2fwww.googleapis.com%2fauth%2fdrive.photos.readonly%20https%3a%2f%2fwww.googleapis.com%2fauth%2fpeopleapi.readonly\n",
            "\n",
            "Enter your authorization code:\n",
            "··········\n",
            "Mounted at /content/gdrive\n"
          ],
          "name": "stdout"
        }
      ]
    },
    {
      "cell_type": "code",
      "metadata": {
        "id": "mlt2rXuFH5Lt",
        "colab_type": "code",
        "colab": {}
      },
      "source": [
        "#keep matlab formatted data (is most compact) and annotations\n",
        "if initialsetup:\n",
        "  !cp /content/sat-6-full.mat /content/gdrive/My\\ Drive/Springboard/Data/DeepSat6/\n",
        "  !cp /content/sat6annotations.csv /content/gdrive/My\\ Drive/Springboard/Data/DeepSat6/"
      ],
      "execution_count": 0,
      "outputs": []
    },
    {
      "cell_type": "code",
      "metadata": {
        "id": "0jF5UUMMGtJW",
        "colab_type": "code",
        "colab": {}
      },
      "source": [
        "from scipy.io import loadmat\n",
        "data=loadmat('/content/gdrive/My Drive/Springboard/Data/DeepSat6/sat-6-full.mat')"
      ],
      "execution_count": 0,
      "outputs": []
    },
    {
      "cell_type": "code",
      "metadata": {
        "id": "RFtAJ6qZG26_",
        "colab_type": "code",
        "colab": {}
      },
      "source": [
        "import numpy as np\n",
        "import pandas as pd\n",
        "\n",
        "def fixaxes(inarr): #matlab format has long axis in last position, move to 1st to match tensorflow\n",
        "  return np.rollaxis(inarr,3,0)\n",
        "\n",
        "#load ndarrays from mat dictionary\n",
        "trainX=fixaxes(data['train_x']) \n",
        "trainy=data['train_y'].T\n",
        "testX=fixaxes(data['test_x'])\n",
        "testy = data['test_y'].T\n",
        "#print(trx.shape)\n",
        "assert np.all(trainX[0,:10,0,0] == data['train_x'][:10,0,0,0])\n"
      ],
      "execution_count": 0,
      "outputs": []
    },
    {
      "cell_type": "code",
      "metadata": {
        "id": "0i4kaZko2qfA",
        "colab_type": "code",
        "colab": {}
      },
      "source": [
        "# get vector of categories for interpreting outputs\n",
        "\n",
        "#X = df.values.reshape((-1, 28, 28, 4)).clip(0, 255).astype(np.uint8) # keep IR # (adapted from examples in https://www.kaggle.com/kmader/deepsat-overview-without-ir\n",
        "#y = pd.read_csv('/content/y_train_sat6.csv',nrows=19200,header=None) \n",
        "#y=pd.DataFrame(trainy)\n",
        "#get series of categories as text\n",
        "anno=pd.read_csv('/content/gdrive/My Drive/Springboard/Data/DeepSat6/sat6annotations.csv',header=None)\n",
        "anno.head()\n",
        "categories=anno.loc[:,0].to_dict()\n",
        "ycat=pd.DataFrame(trainy).idxmax(axis=1).map(categories)"
      ],
      "execution_count": 0,
      "outputs": []
    },
    {
      "cell_type": "code",
      "metadata": {
        "id": "6KowkYFF2-lb",
        "colab_type": "code",
        "outputId": "f5ffd2ab-05ff-45bd-c055-b988ec07f57b",
        "colab": {
          "base_uri": "https://localhost:8080/",
          "height": 307
        }
      },
      "source": [
        "# look at a few tiles, visible bands\n",
        "import matplotlib.pyplot as plt \n",
        "fig,axs=plt.subplots(1,4,figsize=(20,10))\n",
        "axs[0].imshow(trainX[0,:,:,:3])\n",
        "axs[1].imshow(trainX[6,:,:,:3])\n",
        "axs[2].imshow(trainX[2,:,:,:3])\n",
        "axs[3].imshow(trainX[8,:,:,:3])\n",
        "axs[0].set_title(ycat.loc[0])\n",
        "axs[1].set_title(ycat.loc[6])\n",
        "axs[2].set_title(ycat.loc[2])\n",
        "axs[3].set_title(ycat.loc[8]);"
      ],
      "execution_count": 0,
      "outputs": [
        {
          "output_type": "display_data",
          "data": {
            "image/png": "[encoded data removed]",
            "text/plain": [
              "<Figure size 1440x720 with 4 Axes>"
            ]
          },
          "metadata": {
            "tags": []
          }
        }
      ]
    },
    {
      "cell_type": "code",
      "metadata": {
        "id": "Sq_TrFE13Cip",
        "colab_type": "code",
        "outputId": "2cc06a9e-8d56-46a7-c621-c3583985cc9d",
        "colab": {
          "base_uri": "https://localhost:8080/",
          "height": 331
        }
      },
      "source": [
        "#look at balance between categories:  we see that the categories are not evenly distributed\n",
        "ycounts=ycat.value_counts()\n",
        "ycounts.plot.bar()\n",
        "plt.title('Distribution of categories in the DeepSat6 Dataset');"
      ],
      "execution_count": 0,
      "outputs": [
        {
          "output_type": "display_data",
          "data": {
            "image/png": "[encoded data removed]",
            "text/plain": [
              "<Figure size 432x288 with 1 Axes>"
            ]
          },
          "metadata": {
            "tags": []
          }
        }
      ]
    },
    {
      "cell_type": "code",
      "metadata": {
        "id": "5z03EG8U3Fyp",
        "colab_type": "code",
        "outputId": "ced08858-b636-482b-a593-745ba955fe2c",
        "colab": {
          "base_uri": "https://localhost:8080/",
          "height": 542
        }
      },
      "source": [
        "#simple baseline CNN\n",
        "from tensorflow.keras import models,layers\n",
        "model = models.Sequential()\n",
        "model.add(layers.Conv2D(32, (3, 3), activation='relu', input_shape=(28,28, 4))) #  RGB+IR images.\n",
        "#model.add(layers.Conv2D(32, (3, 3), activation='relu'))\n",
        "model.add(layers.MaxPooling2D((2, 2)))\n",
        "model.add(layers.Conv2D(64, (3, 3), activation='relu'))\n",
        "#model.add(layers.Conv2D(64, (3, 3), activation='relu'))\n",
        "model.add(layers.MaxPooling2D((2, 2)))\n",
        "model.add(layers.Flatten())  #collapse to 1D\n",
        "model.add(layers.Dense(512,activation='relu')) #reduce after flatten\n",
        "model.add(layers.Dropout(0.5)) #added to reduce overfitting after updating image generator to use augmentation\n",
        "model.add(layers.Dense(6,activation='softmax')) #final 6-way classification, predict class\n",
        "model.summary()"
      ],
      "execution_count": 0,
      "outputs": [
        {
          "output_type": "display_data",
          "data": {
            "text/html": [
              "<p style=\"color: red;\">\n",
              "The default version of TensorFlow in Colab will soon switch to TensorFlow 2.x.<br>\n",
              "We recommend you <a href=\"https://www.tensorflow.org/guide/migrate\" target=\"_blank\">upgrade</a> now \n",
              "or ensure your notebook will continue to use TensorFlow 1.x via the <code>%tensorflow_version 1.x</code> magic:\n",
              "<a href=\"https://colab.research.google.com/notebooks/tensorflow_version.ipynb\" target=\"_blank\">more info</a>.</p>\n"
            ],
            "text/plain": [
              "<IPython.core.display.HTML object>"
            ]
          },
          "metadata": {
            "tags": []
          }
        },
        {
          "output_type": "stream",
          "text": [
            "WARNING:tensorflow:From /usr/local/lib/python3.6/dist-packages/tensorflow_core/python/ops/resource_variable_ops.py:1630: calling BaseResourceVariable.__init__ (from tensorflow.python.ops.resource_variable_ops) with constraint is deprecated and will be removed in a future version.\n",
            "Instructions for updating:\n",
            "If using Keras pass *_constraint arguments to layers.\n",
            "Model: \"sequential\"\n",
            "_________________________________________________________________\n",
            "Layer (type)                 Output Shape              Param #   \n",
            "=================================================================\n",
            "conv2d (Conv2D)              (None, 26, 26, 32)        1184      \n",
            "_________________________________________________________________\n",
            "max_pooling2d (MaxPooling2D) (None, 13, 13, 32)        0         \n",
            "_________________________________________________________________\n",
            "conv2d_1 (Conv2D)            (None, 11, 11, 64)        18496     \n",
            "_________________________________________________________________\n",
            "max_pooling2d_1 (MaxPooling2 (None, 5, 5, 64)          0         \n",
            "_________________________________________________________________\n",
            "flatten (Flatten)            (None, 1600)              0         \n",
            "_________________________________________________________________\n",
            "dense (Dense)                (None, 512)               819712    \n",
            "_________________________________________________________________\n",
            "dropout (Dropout)            (None, 512)               0         \n",
            "_________________________________________________________________\n",
            "dense_1 (Dense)              (None, 6)                 3078      \n",
            "=================================================================\n",
            "Total params: 842,470\n",
            "Trainable params: 842,470\n",
            "Non-trainable params: 0\n",
            "_________________________________________________________________\n"
          ],
          "name": "stdout"
        }
      ]
    },
    {
      "cell_type": "code",
      "metadata": {
        "id": "wiaoILcJ3IJI",
        "colab_type": "code",
        "colab": {}
      },
      "source": [
        "from tensorflow.keras.preprocessing.image import ImageDataGenerator\n",
        "train_datagen = ImageDataGenerator(rescale=1./255)\n",
        "val_datagen = ImageDataGenerator(rescale=1./255)\n",
        "train_generator=train_datagen.flow(trainX[:280000],trainy[:280000],batch_size=512) #puts 280,000 images in train\n",
        "val_generator=val_datagen.flow(trainX[280000:],trainy[280000:],batch_size=512) #puts 64,800 records in val"
      ],
      "execution_count": 0,
      "outputs": []
    },
    {
      "cell_type": "code",
      "metadata": {
        "id": "EZEtNJ0L4OFN",
        "colab_type": "code",
        "colab": {}
      },
      "source": [
        "from tensorflow.keras import optimizers\n",
        "load_weights=False\n",
        "if load_weights:\n",
        "    model.load_weights('/content/baseline.hdf5')\n",
        "model.compile(loss='categorical_crossentropy',optimizer=optimizers.SGD(lr=0.01),metrics=['accuracy'])"
      ],
      "execution_count": 0,
      "outputs": []
    },
    {
      "cell_type": "code",
      "metadata": {
        "id": "m6DpIjNv4OST",
        "colab_type": "code",
        "outputId": "3ea09402-9ca9-43d1-e0c6-b71429329a54",
        "colab": {
          "base_uri": "https://localhost:8080/",
          "height": 1000
        }
      },
      "source": [
        "from keras.callbacks import EarlyStopping\n",
        "early_stop_mon=EarlyStopping(patience=3)\n",
        "if load_weights!=True:\n",
        "    history=model.fit_generator(train_generator,steps_per_epoch=545,epochs=30,validation_data=val_generator,validation_steps=85,callbacks=[early_stop_mon])"
      ],
      "execution_count": 0,
      "outputs": [
        {
          "output_type": "stream",
          "text": [
            "Epoch 1/30\n",
            "544/545 [============================>.] - ETA: 0s - loss: 0.6291 - acc: 0.7599Epoch 1/30\n",
            "545/545 [==============================] - 20s 36ms/step - loss: 0.6286 - acc: 0.7601 - val_loss: 0.4148 - val_acc: 0.7912\n",
            "Epoch 2/30\n",
            "544/545 [============================>.] - ETA: 0s - loss: 0.2926 - acc: 0.8793Epoch 1/30\n",
            "545/545 [==============================] - 20s 36ms/step - loss: 0.2926 - acc: 0.8793 - val_loss: 0.2795 - val_acc: 0.8780\n",
            "Epoch 3/30\n",
            "543/545 [============================>.] - ETA: 0s - loss: 0.2335 - acc: 0.9048Epoch 1/30\n",
            "545/545 [==============================] - 20s 36ms/step - loss: 0.2336 - acc: 0.9047 - val_loss: 0.2163 - val_acc: 0.9090\n",
            "Epoch 4/30\n",
            "543/545 [============================>.] - ETA: 0s - loss: 0.2012 - acc: 0.9187Epoch 1/30\n",
            "545/545 [==============================] - 21s 38ms/step - loss: 0.2011 - acc: 0.9188 - val_loss: 0.1728 - val_acc: 0.9299\n",
            "Epoch 5/30\n",
            "544/545 [============================>.] - ETA: 0s - loss: 0.1796 - acc: 0.9271Epoch 1/30\n",
            "545/545 [==============================] - 21s 39ms/step - loss: 0.1796 - acc: 0.9271 - val_loss: 0.1731 - val_acc: 0.9262\n",
            "Epoch 6/30\n",
            "544/545 [============================>.] - ETA: 0s - loss: 0.1627 - acc: 0.9344Epoch 1/30\n",
            "545/545 [==============================] - 21s 38ms/step - loss: 0.1627 - acc: 0.9344 - val_loss: 0.1376 - val_acc: 0.9432\n",
            "Epoch 7/30\n",
            "543/545 [============================>.] - ETA: 0s - loss: 0.1512 - acc: 0.9390Epoch 1/30\n",
            "545/545 [==============================] - 21s 39ms/step - loss: 0.1512 - acc: 0.9390 - val_loss: 0.1300 - val_acc: 0.9455\n",
            "Epoch 8/30\n",
            "543/545 [============================>.] - ETA: 0s - loss: 0.1423 - acc: 0.9422Epoch 1/30\n",
            "545/545 [==============================] - 21s 38ms/step - loss: 0.1423 - acc: 0.9422 - val_loss: 0.1256 - val_acc: 0.9485\n",
            "Epoch 9/30\n",
            "543/545 [============================>.] - ETA: 0s - loss: 0.1368 - acc: 0.9441Epoch 1/30\n",
            "545/545 [==============================] - 21s 38ms/step - loss: 0.1368 - acc: 0.9441 - val_loss: 0.1198 - val_acc: 0.9506\n",
            "Epoch 10/30\n",
            "543/545 [============================>.] - ETA: 0s - loss: 0.1322 - acc: 0.9458Epoch 1/30\n",
            "545/545 [==============================] - 20s 37ms/step - loss: 0.1321 - acc: 0.9458 - val_loss: 0.1156 - val_acc: 0.9509\n",
            "Epoch 11/30\n",
            "544/545 [============================>.] - ETA: 0s - loss: 0.1270 - acc: 0.9487Epoch 1/30\n",
            "545/545 [==============================] - 21s 38ms/step - loss: 0.1271 - acc: 0.9487 - val_loss: 0.1152 - val_acc: 0.9535\n",
            "Epoch 12/30\n",
            "544/545 [============================>.] - ETA: 0s - loss: 0.1238 - acc: 0.9505Epoch 1/30\n",
            "545/545 [==============================] - 21s 38ms/step - loss: 0.1238 - acc: 0.9505 - val_loss: 0.1128 - val_acc: 0.9547\n",
            "Epoch 13/30\n",
            "543/545 [============================>.] - ETA: 0s - loss: 0.1202 - acc: 0.9530Epoch 1/30\n",
            "545/545 [==============================] - 21s 39ms/step - loss: 0.1201 - acc: 0.9530 - val_loss: 0.1133 - val_acc: 0.9562\n",
            "Epoch 14/30\n",
            "544/545 [============================>.] - ETA: 0s - loss: 0.1178 - acc: 0.9551Epoch 1/30\n",
            "545/545 [==============================] - 22s 41ms/step - loss: 0.1178 - acc: 0.9551 - val_loss: 0.1031 - val_acc: 0.9605\n",
            "Epoch 15/30\n",
            "543/545 [============================>.] - ETA: 0s - loss: 0.1133 - acc: 0.9580Epoch 1/30\n",
            "545/545 [==============================] - 22s 40ms/step - loss: 0.1132 - acc: 0.9580 - val_loss: 0.1017 - val_acc: 0.9623\n",
            "Epoch 16/30\n",
            "543/545 [============================>.] - ETA: 0s - loss: 0.1087 - acc: 0.9607Epoch 1/30\n",
            "545/545 [==============================] - 21s 39ms/step - loss: 0.1088 - acc: 0.9607 - val_loss: 0.0974 - val_acc: 0.9672\n",
            "Epoch 17/30\n",
            "544/545 [============================>.] - ETA: 0s - loss: 0.1060 - acc: 0.9619Epoch 1/30\n",
            "545/545 [==============================] - 22s 39ms/step - loss: 0.1060 - acc: 0.9619 - val_loss: 0.0990 - val_acc: 0.9631\n",
            "Epoch 18/30\n",
            "543/545 [============================>.] - ETA: 0s - loss: 0.1021 - acc: 0.9638Epoch 1/30\n",
            "545/545 [==============================] - 21s 39ms/step - loss: 0.1021 - acc: 0.9638 - val_loss: 0.0913 - val_acc: 0.9680\n",
            "Epoch 19/30\n",
            "543/545 [============================>.] - ETA: 0s - loss: 0.0983 - acc: 0.9651Epoch 1/30\n",
            "545/545 [==============================] - 21s 39ms/step - loss: 0.0983 - acc: 0.9651 - val_loss: 0.0883 - val_acc: 0.9699\n",
            "Epoch 20/30\n",
            "544/545 [============================>.] - ETA: 0s - loss: 0.0950 - acc: 0.9666Epoch 1/30\n",
            "545/545 [==============================] - 22s 40ms/step - loss: 0.0950 - acc: 0.9666 - val_loss: 0.0908 - val_acc: 0.9686\n",
            "Epoch 21/30\n",
            "543/545 [============================>.] - ETA: 0s - loss: 0.0931 - acc: 0.9669Epoch 1/30\n",
            "545/545 [==============================] - 22s 40ms/step - loss: 0.0930 - acc: 0.9669 - val_loss: 0.0827 - val_acc: 0.9708\n",
            "Epoch 22/30\n",
            "544/545 [============================>.] - ETA: 0s - loss: 0.0897 - acc: 0.9682Epoch 1/30\n",
            "545/545 [==============================] - 21s 39ms/step - loss: 0.0896 - acc: 0.9683 - val_loss: 0.0792 - val_acc: 0.9732\n",
            "Epoch 23/30\n",
            "544/545 [============================>.] - ETA: 0s - loss: 0.0877 - acc: 0.9691Epoch 1/30\n",
            "545/545 [==============================] - 21s 39ms/step - loss: 0.0877 - acc: 0.9691 - val_loss: 0.0784 - val_acc: 0.9730\n",
            "Epoch 24/30\n",
            "543/545 [============================>.] - ETA: 0s - loss: 0.0851 - acc: 0.9698Epoch 1/30\n",
            "545/545 [==============================] - 20s 37ms/step - loss: 0.0851 - acc: 0.9698 - val_loss: 0.0774 - val_acc: 0.9733\n",
            "Epoch 25/30\n",
            "544/545 [============================>.] - ETA: 0s - loss: 0.0841 - acc: 0.9697Epoch 1/30\n",
            "545/545 [==============================] - 20s 37ms/step - loss: 0.0840 - acc: 0.9698 - val_loss: 0.0755 - val_acc: 0.9734\n",
            "Epoch 26/30\n",
            "543/545 [============================>.] - ETA: 0s - loss: 0.0823 - acc: 0.9706Epoch 1/30\n",
            "545/545 [==============================] - 20s 37ms/step - loss: 0.0823 - acc: 0.9707 - val_loss: 0.0736 - val_acc: 0.9742\n",
            "Epoch 27/30\n",
            "543/545 [============================>.] - ETA: 0s - loss: 0.0818 - acc: 0.9710Epoch 1/30\n",
            "545/545 [==============================] - 20s 37ms/step - loss: 0.0818 - acc: 0.9710 - val_loss: 0.0777 - val_acc: 0.9729\n",
            "Epoch 28/30\n",
            "543/545 [============================>.] - ETA: 0s - loss: 0.0804 - acc: 0.9713Epoch 1/30\n",
            "545/545 [==============================] - 20s 37ms/step - loss: 0.0804 - acc: 0.9713 - val_loss: 0.0734 - val_acc: 0.9738\n",
            "Epoch 29/30\n",
            "543/545 [============================>.] - ETA: 0s - loss: 0.0779 - acc: 0.9720Epoch 1/30\n",
            "545/545 [==============================] - 20s 37ms/step - loss: 0.0779 - acc: 0.9720 - val_loss: 0.0694 - val_acc: 0.9755\n",
            "Epoch 30/30\n",
            "544/545 [============================>.] - ETA: 0s - loss: 0.0784 - acc: 0.9718Epoch 1/30\n",
            "545/545 [==============================] - 20s 37ms/step - loss: 0.0783 - acc: 0.9719 - val_loss: 0.0690 - val_acc: 0.9759\n"
          ],
          "name": "stdout"
        }
      ]
    },
    {
      "cell_type": "code",
      "metadata": {
        "id": "2Hmi5nl14OfR",
        "colab_type": "code",
        "colab": {}
      },
      "source": [
        "save_weights=True\n",
        "if save_weights:\n",
        "    model.save_weights('/content/gdrive/My Drive/Springboard/Data/DeepSat6/baseline.hdf5')\n",
        "    #dump history too\n",
        "    hist_df=pd.DataFrame.from_dict(history.history)\n",
        "    hist_df.to_csv('/content/gdrive/My Drive/Springboard/Data/DeepSat6/history.csv')\n"
      ],
      "execution_count": 0,
      "outputs": []
    },
    {
      "cell_type": "code",
      "metadata": {
        "id": "tJ99vu8Vq6Gh",
        "colab_type": "code",
        "colab": {}
      },
      "source": [
        "model.load_weights('/content/gdrive/My Drive/Springboard/Data/DeepSat6/baseline.hdf5')\n"
      ],
      "execution_count": 0,
      "outputs": []
    },
    {
      "cell_type": "code",
      "metadata": {
        "id": "C2xxN5IPrGNz",
        "colab_type": "code",
        "colab": {}
      },
      "source": [
        "hist=pd.read_csv('/content/gdrive/My Drive/Springboard/Data/DeepSat6/history.csv')"
      ],
      "execution_count": 0,
      "outputs": []
    },
    {
      "cell_type": "code",
      "metadata": {
        "id": "XS7sVaJ_6vL5",
        "colab_type": "code",
        "outputId": "6c78db5a-736a-464e-ef63-f34f296223b3",
        "colab": {
          "base_uri": "https://localhost:8080/",
          "height": 370
        }
      },
      "source": [
        "# Plot model fitting\n",
        "# adapted from Deep Learning With Python (Chollet)\n",
        "h=hist#history.history\n",
        "epochs = range(len(h['acc']))\n",
        "fig,ax=plt.subplots(1,2,figsize=(13,5))\n",
        "ax[0].plot(epochs, h['acc'], 'r', label='Training')\n",
        "ax[0].plot(epochs, h['val_acc'], 'b', label='Validation')\n",
        "ax[0].set_title('Accuracy')\n",
        "ax[0].set_xlabel('Epochs')\n",
        "ax[0].legend()\n",
        "ax[1].plot(epochs, h['loss'], 'r', label='Training')\n",
        "ax[1].plot(epochs, h['val_loss'], 'b', label='Validation')\n",
        "ax[1].set_title('Loss')\n",
        "ax[1].set_xlabel('Epochs')\n",
        "ax[1].legend()\n",
        "plt.suptitle('Evaluation of Model Fit Over 30 Epochs');\n"
      ],
      "execution_count": 0,
      "outputs": [
        {
          "output_type": "display_data",
          "data": {
            "image/png": "[encoded data removed]",
            "text/plain": [
              "<Figure size 936x360 with 2 Axes>"
            ]
          },
          "metadata": {
            "tags": []
          }
        }
      ]
    },
    {
      "cell_type": "code",
      "metadata": {
        "id": "7z2CDysD7FAN",
        "colab_type": "code",
        "colab": {}
      },
      "source": [
        "#try with data augmentation - performed slightly worse than unaugmented data set (results not shown below)\n",
        "train_datagen_aug = ImageDataGenerator(rescale=1./255, rotation_range=90, #added image augmentation to increase training dataset size\n",
        "                                   width_shift_range=0.2, height_shift_range=0.2,\n",
        "                                   shear_range=0.2, zoom_range=0.2,\n",
        "                                   horizontal_flip=True,vertical_flip=True) #rescale to [0,1]\n",
        "\n",
        "train_generator_aug=train_datagen_aug.flow(X[:16000],y.values[:16000],batch_size=64)"
      ],
      "execution_count": 0,
      "outputs": []
    },
    {
      "cell_type": "code",
      "metadata": {
        "id": "teh0V9tztwmR",
        "colab_type": "code",
        "colab": {}
      },
      "source": [
        "# Look at predictions on held-out data\n",
        "testX_rescaled=testX/255\n",
        "predy=model.predict(testX_rescaled)"
      ],
      "execution_count": 0,
      "outputs": []
    },
    {
      "cell_type": "code",
      "metadata": {
        "id": "52b6HeIqjS_z",
        "colab_type": "code",
        "colab": {}
      },
      "source": [
        "#get pd Series of predicted and actual categories for test dataset\n",
        "testycat=pd.DataFrame(testy).idxmax(axis=1).map(categories) #actual\n",
        "testycat_pred=pd.DataFrame(predy).idxmax(axis=1).map(categories) #pred"
      ],
      "execution_count": 0,
      "outputs": []
    },
    {
      "cell_type": "code",
      "metadata": {
        "id": "usGIgSQe7t7V",
        "colab_type": "code",
        "outputId": "5344d969-088f-49d0-abb4-c62e6fed4325",
        "colab": {
          "base_uri": "https://localhost:8080/",
          "height": 337
        }
      },
      "source": [
        "#Plot results\n",
        "pred_df=testycat_pred.value_counts()\n",
        "act_df=testycat.value_counts()\n",
        "fig,ax=plt.subplots(figsize=(10,5))\n",
        "ind=np.arange(6)\n",
        "width=0.35\n",
        "pred=ax.bar(ind+width,pred_df.values,width=width,label='predicted')\n",
        "act=ax.bar(ind,act_df.values,width=width,label='actual')\n",
        "ax.set_xticks(ind+width/2)\n",
        "ax.set_xticklabels(pred_df.index)\n",
        "ax.legend()\n",
        "ax.set_title('Comparison of predicted and actual categories on test dataset');"
      ],
      "execution_count": 0,
      "outputs": [
        {
          "output_type": "display_data",
          "data": {
            "image/png": "[encoded data removed]",
            "text/plain": [
              "<Figure size 720x360 with 1 Axes>"
            ]
          },
          "metadata": {
            "tags": []
          }
        }
      ]
    },
    {
      "cell_type": "code",
      "metadata": {
        "id": "NfMAqXhN7uJq",
        "colab_type": "code",
        "outputId": "86330a06-28b3-46ad-dd77-e16a4f3b6c20",
        "colab": {
          "base_uri": "https://localhost:8080/",
          "height": 204
        }
      },
      "source": [
        "#get prediction errors\n",
        "compare_df=pd.concat([testycat,testycat_pred],axis=1)\n",
        "compare_df.columns=['actual','predicted']\n",
        "compare_df=compare_df.assign(mismatch=compare_df.actual!=compare_df.predicted)\n",
        "compare_df.loc[compare_df.mismatch].head()"
      ],
      "execution_count": 0,
      "outputs": [
        {
          "output_type": "execute_result",
          "data": {
            "text/html": [
              "<div>\n",
              "<style scoped>\n",
              "    .dataframe tbody tr th:only-of-type {\n",
              "        vertical-align: middle;\n",
              "    }\n",
              "\n",
              "    .dataframe tbody tr th {\n",
              "        vertical-align: top;\n",
              "    }\n",
              "\n",
              "    .dataframe thead th {\n",
              "        text-align: right;\n",
              "    }\n",
              "</style>\n",
              "<table border=\"1\" class=\"dataframe\">\n",
              "  <thead>\n",
              "    <tr style=\"text-align: right;\">\n",
              "      <th></th>\n",
              "      <th>actual</th>\n",
              "      <th>predicted</th>\n",
              "      <th>mismatch</th>\n",
              "    </tr>\n",
              "  </thead>\n",
              "  <tbody>\n",
              "    <tr>\n",
              "      <th>37</th>\n",
              "      <td>barren_land</td>\n",
              "      <td>grassland</td>\n",
              "      <td>True</td>\n",
              "    </tr>\n",
              "    <tr>\n",
              "      <th>92</th>\n",
              "      <td>barren_land</td>\n",
              "      <td>grassland</td>\n",
              "      <td>True</td>\n",
              "    </tr>\n",
              "    <tr>\n",
              "      <th>102</th>\n",
              "      <td>building</td>\n",
              "      <td>water</td>\n",
              "      <td>True</td>\n",
              "    </tr>\n",
              "    <tr>\n",
              "      <th>152</th>\n",
              "      <td>road</td>\n",
              "      <td>building</td>\n",
              "      <td>True</td>\n",
              "    </tr>\n",
              "    <tr>\n",
              "      <th>283</th>\n",
              "      <td>barren_land</td>\n",
              "      <td>grassland</td>\n",
              "      <td>True</td>\n",
              "    </tr>\n",
              "  </tbody>\n",
              "</table>\n",
              "</div>"
            ],
            "text/plain": [
              "          actual  predicted  mismatch\n",
              "37   barren_land  grassland      True\n",
              "92   barren_land  grassland      True\n",
              "102     building      water      True\n",
              "152         road   building      True\n",
              "283  barren_land  grassland      True"
            ]
          },
          "metadata": {
            "tags": []
          },
          "execution_count": 26
        }
      ]
    },
    {
      "cell_type": "code",
      "metadata": {
        "id": "qO9UFDOFs_iD",
        "colab_type": "code",
        "outputId": "51c0b564-523a-4ef1-ae27-6112f2e3ff27",
        "colab": {
          "base_uri": "https://localhost:8080/",
          "height": 68
        }
      },
      "source": [
        "compare_df['mismatch'].value_counts()"
      ],
      "execution_count": 0,
      "outputs": [
        {
          "output_type": "execute_result",
          "data": {
            "text/plain": [
              "False    79074\n",
              "True      1926\n",
              "Name: mismatch, dtype: int64"
            ]
          },
          "metadata": {
            "tags": []
          },
          "execution_count": 29
        }
      ]
    },
    {
      "cell_type": "code",
      "metadata": {
        "id": "IRQ_e3Qo7yUh",
        "colab_type": "code",
        "outputId": "88a4e829-6668-4b56-92a0-5559fb7b671e",
        "colab": {
          "base_uri": "https://localhost:8080/",
          "height": 34
        }
      },
      "source": [
        "#accuracy on test dataset\n",
        "print('Overall accuracy on test dataset: {0:.3f}'.format(1-(compare_df.mismatch.sum()/compare_df.mismatch.count())))"
      ],
      "execution_count": 0,
      "outputs": [
        {
          "output_type": "stream",
          "text": [
            "Overall accuracy on test dataset: 0.976\n"
          ],
          "name": "stdout"
        }
      ]
    },
    {
      "cell_type": "code",
      "metadata": {
        "id": "0mFI9FNp7yao",
        "colab_type": "code",
        "outputId": "848c336f-bf4e-4797-9e70-67197d32a999",
        "colab": {
          "base_uri": "https://localhost:8080/",
          "height": 544
        }
      },
      "source": [
        "# Look at confusion matrix, classification report\n",
        "from sklearn.metrics import classification_report,confusion_matrix\n",
        "print('Classification Report:')\n",
        "print(classification_report(testycat,testycat_pred))\n",
        "print('Confusion Matrix:')\n",
        "print(confusion_matrix(testycat,testycat_pred))\n",
        "print('\\nNumber of Correct Classifications:')\n",
        "correct=compare_df.loc[~compare_df.mismatch].groupby(['actual','predicted']).count()\n",
        "correct.columns=['Correct']\n",
        "print(correct) #check order of entries in confusion matrix"
      ],
      "execution_count": 0,
      "outputs": [
        {
          "output_type": "stream",
          "text": [
            "Classification Report:\n",
            "              precision    recall  f1-score   support\n",
            "\n",
            " barren_land       0.98      0.96      0.97     18367\n",
            "    building       0.95      0.97      0.96      3714\n",
            "   grassland       0.93      0.95      0.94     12596\n",
            "        road       0.93      0.87      0.90      2070\n",
            "       trees       0.98      0.99      0.98     14185\n",
            "       water       1.00      1.00      1.00     30068\n",
            "\n",
            "    accuracy                           0.98     81000\n",
            "   macro avg       0.96      0.96      0.96     81000\n",
            "weighted avg       0.98      0.98      0.98     81000\n",
            "\n",
            "Confusion Matrix:\n",
            "[[17622     4   721     5    15     0]\n",
            " [    0  3614     1    92     1     6]\n",
            " [  358     0 11931    34   273     0]\n",
            " [    2   206    29  1793    11    29]\n",
            " [    2     0   137     0 14046     0]\n",
            " [    0     0     0     0     0 30068]]\n",
            "\n",
            "Number of Correct Classifications:\n",
            "                         Correct\n",
            "actual      predicted           \n",
            "barren_land barren_land    17622\n",
            "building    building        3614\n",
            "grassland   grassland      11931\n",
            "road        road            1793\n",
            "trees       trees          14046\n",
            "water       water          30068\n"
          ],
          "name": "stdout"
        }
      ]
    },
    {
      "cell_type": "code",
      "metadata": {
        "id": "3iN8X7d97yYP",
        "colab_type": "code",
        "outputId": "7fd818f9-6027-49a3-a9c4-855ee5fd4b48",
        "colab": {
          "base_uri": "https://localhost:8080/",
          "height": 221
        }
      },
      "source": [
        "# roads have slightly lower recall wrt other categories (often misclassified as buildings)\n",
        "# get indices of misclassifications of roads\n",
        "road_mismatch=compare_df.loc[(compare_df.mismatch)&(compare_df.actual=='road')]\n",
        "print(road_mismatch['predicted'].value_counts()) #roads most often misclassified as buildings\n",
        "road_mismatch['ixcopy']=road_mismatch.index\n",
        "mismatches=road_mismatch.groupby('predicted')['ixcopy'].first()"
      ],
      "execution_count": 0,
      "outputs": [
        {
          "output_type": "stream",
          "text": [
            "building       206\n",
            "grassland       29\n",
            "water           29\n",
            "trees           11\n",
            "barren_land      2\n",
            "Name: predicted, dtype: int64\n"
          ],
          "name": "stdout"
        },
        {
          "output_type": "stream",
          "text": [
            "/usr/local/lib/python3.6/dist-packages/ipykernel_launcher.py:3: SettingWithCopyWarning: \n",
            "A value is trying to be set on a copy of a slice from a DataFrame.\n",
            "Try using .loc[row_indexer,col_indexer] = value instead\n",
            "\n",
            "See the caveats in the documentation: http://pandas.pydata.org/pandas-docs/stable/user_guide/indexing.html#returning-a-view-versus-a-copy\n",
            "  This is separate from the ipykernel package so we can avoid doing imports until\n"
          ],
          "name": "stderr"
        }
      ]
    },
    {
      "cell_type": "code",
      "metadata": {
        "id": "LaGqaC5L8bLr",
        "colab_type": "code",
        "outputId": "19e9c08d-26eb-4635-8786-d7a63e4b2564",
        "colab": {
          "base_uri": "https://localhost:8080/",
          "height": 304
        }
      },
      "source": [
        "#view some mismatches\n",
        "fig,axs=plt.subplots(1,5,figsize=(25,10))\n",
        "axix=0\n",
        "for i,v in mismatches.iteritems():\n",
        "  axs[axix].imshow(testX[v,:,:,:3])\n",
        "  axs[axix].set_title('Road misclassified as {}'.format(i))\n",
        "  axix+=1"
      ],
      "execution_count": 0,
      "outputs": [
        {
          "output_type": "display_data",
          "data": {
            "image/png": "[encoded data removed]",
            "text/plain": [
              "<Figure size 1800x720 with 5 Axes>"
            ]
          },
          "metadata": {
            "tags": []
          }
        }
      ]
    },
    {
      "cell_type": "code",
      "metadata": {
        "id": "h-lBDj0RLMuh",
        "colab_type": "code",
        "outputId": "4c9c22c3-6442-411d-8be0-2969f2b90c2e",
        "colab": {
          "base_uri": "https://localhost:8080/",
          "height": 34
        }
      },
      "source": [
        "test_img.shape"
      ],
      "execution_count": 0,
      "outputs": [
        {
          "output_type": "execute_result",
          "data": {
            "text/plain": [
              "(28, 28, 4)"
            ]
          },
          "metadata": {
            "tags": []
          },
          "execution_count": 51
        }
      ]
    },
    {
      "cell_type": "markdown",
      "metadata": {
        "id": "UvRlQFWLwwZw",
        "colab_type": "text"
      },
      "source": [
        "### The following section is an attempt to fit the same data using transfer learning"
      ]
    },
    {
      "cell_type": "code",
      "metadata": {
        "id": "u8BymblVFQS9",
        "colab_type": "code",
        "outputId": "df6f66bf-1e1e-4299-e776-7affdf832150",
        "colab": {
          "base_uri": "https://localhost:8080/",
          "height": 284
        }
      },
      "source": [
        "import cv2\n",
        "resized=cv2.resize(test_img,(56,56),interpolation=cv2.INTER_AREA)\n",
        "plt.imshow(resized)\n",
        "resized.shape"
      ],
      "execution_count": 0,
      "outputs": [
        {
          "output_type": "execute_result",
          "data": {
            "text/plain": [
              "(56, 56, 4)"
            ]
          },
          "metadata": {
            "tags": []
          },
          "execution_count": 16
        },
        {
          "output_type": "display_data",
          "data": {
            "image/png": "[encoded data removed]",
            "text/plain": [
              "<Figure size 432x288 with 1 Axes>"
            ]
          },
          "metadata": {
            "tags": []
          }
        }
      ]
    },
    {
      "cell_type": "code",
      "metadata": {
        "id": "UfzAxptlPGtG",
        "colab_type": "code",
        "colab": {}
      },
      "source": [
        "#create array of enlarged images\n",
        "count=0\n",
        "X_big=np.empty((X.shape[0],56,56,4))\n",
        "for img in X:\n",
        "  #while count<10000:\n",
        "    #print(img.shape)\n",
        "  X_big[count]=cv2.resize(img,(56,56),interpolation=cv2.INTER_NEAREST)\n",
        "  count+=1"
      ],
      "execution_count": 0,
      "outputs": []
    },
    {
      "cell_type": "code",
      "metadata": {
        "id": "s_-R6v8PVqpe",
        "colab_type": "code",
        "outputId": "540679e0-9451-4fc4-f00e-dc44a2e4280f",
        "colab": {
          "base_uri": "https://localhost:8080/",
          "height": 51
        }
      },
      "source": [
        "print(X.shape)\n",
        "print(X_big.shape)"
      ],
      "execution_count": 0,
      "outputs": [
        {
          "output_type": "stream",
          "text": [
            "(19200, 28, 28, 4)\n",
            "(19200, 56, 56, 4)\n"
          ],
          "name": "stdout"
        }
      ]
    },
    {
      "cell_type": "code",
      "metadata": {
        "id": "UG3UqfuxUAWo",
        "colab_type": "code",
        "outputId": "810036b5-6ce9-4cfc-b4bb-ff566f2b85f8",
        "colab": {
          "base_uri": "https://localhost:8080/",
          "height": 85
        }
      },
      "source": [
        "X_big[19000,:4,:4,0]"
      ],
      "execution_count": 0,
      "outputs": [
        {
          "output_type": "execute_result",
          "data": {
            "text/plain": [
              "array([[196., 196., 188., 188.],\n",
              "       [196., 196., 188., 188.],\n",
              "       [193., 193., 191., 191.],\n",
              "       [193., 193., 191., 191.]])"
            ]
          },
          "metadata": {
            "tags": []
          },
          "execution_count": 46
        }
      ]
    },
    {
      "cell_type": "code",
      "metadata": {
        "id": "TKrNxcj0MFkM",
        "colab_type": "code",
        "colab": {}
      },
      "source": [
        "from tensorflow.keras.preprocessing.image import ImageDataGenerator\n",
        "train_datagen_big = ImageDataGenerator(rescale=1./255)  \n",
        "val_datagen_big = ImageDataGenerator(rescale=1./255)\n",
        "\n",
        "X_big=X_big[:,:,:,:3]# drop IR\n",
        "\n",
        "train_rand=X_big[np.random.randint(16000)]\n",
        "train_generator_big=train_datagen_big.flow(X_big[:16000],y.values[:16000],batch_size=128,shuffle=True) #puts 16000 records in train\n",
        "val_generator_big=val_datagen_big.flow(X_big[16000:],y.values[16000:],batch_size=128,) #puts 3200 records in val"
      ],
      "execution_count": 0,
      "outputs": []
    },
    {
      "cell_type": "code",
      "metadata": {
        "id": "CQPamBcDFQXi",
        "colab_type": "code",
        "outputId": "acf3913c-689b-4cad-bf76-0f214b0f7184",
        "colab": {
          "base_uri": "https://localhost:8080/",
          "height": 323
        }
      },
      "source": [
        "#try transfer learning with pretrained Resnet50\n",
        "from tensorflow.keras import models,layers\n",
        "from tensorflow.keras.applications import ResNet50\n",
        "cbase=ResNet50(weights='imagenet',include_top=False,input_shape=(56,56,3)) \n",
        "cbase.trainable=False # freeze convolutional base\n",
        "#set_trainable=False\n",
        "#for layer in cbase.layers:\n",
        "  #if layer.name == 'block5_conv1':\n",
        " ##  set_trainable = True\n",
        "  #if set_trainable:\n",
        "  #  layer.trainable = True\n",
        "  #else:\n",
        "   # layer.trainable = False\n",
        "tmodel=models.Sequential()\n",
        "tmodel.add(cbase)\n",
        "tmodel.add(layers.Flatten())\n",
        "\n",
        "tmodel.add(layers.Dense(1024,activation='relu'))\n",
        "tmodel.add(layers.Dropout(0.5))\n",
        "tmodel.add(layers.Dense(6,activation='softmax'))\n",
        "tmodel.summary()"
      ],
      "execution_count": 0,
      "outputs": [
        {
          "output_type": "stream",
          "text": [
            "Model: \"sequential_6\"\n",
            "_________________________________________________________________\n",
            "Layer (type)                 Output Shape              Param #   \n",
            "=================================================================\n",
            "resnet50 (Model)             (None, 2, 2, 2048)        23587712  \n",
            "_________________________________________________________________\n",
            "flatten_6 (Flatten)          (None, 8192)              0         \n",
            "_________________________________________________________________\n",
            "dense_12 (Dense)             (None, 1024)              8389632   \n",
            "_________________________________________________________________\n",
            "dropout_6 (Dropout)          (None, 1024)              0         \n",
            "_________________________________________________________________\n",
            "dense_13 (Dense)             (None, 6)                 6150      \n",
            "=================================================================\n",
            "Total params: 31,983,494\n",
            "Trainable params: 8,395,782\n",
            "Non-trainable params: 23,587,712\n",
            "_________________________________________________________________\n"
          ],
          "name": "stdout"
        }
      ]
    },
    {
      "cell_type": "code",
      "metadata": {
        "id": "DnbqQWOFW-yS",
        "colab_type": "code",
        "colab": {}
      },
      "source": [
        "from tensorflow.keras import optimizers\n",
        "tmodel.compile(loss = 'categorical_crossentropy', optimizer = optimizers.RMSprop(lr=0.0001), metrics = ['accuracy'])"
      ],
      "execution_count": 0,
      "outputs": []
    },
    {
      "cell_type": "code",
      "metadata": {
        "id": "UqzTgdNpW-vz",
        "colab_type": "code",
        "outputId": "cf5fbf39-9c41-44b0-e80f-6b625034be72",
        "colab": {
          "base_uri": "https://localhost:8080/",
          "height": 494
        }
      },
      "source": [
        "thistory=tmodel.fit_generator(train_generator_big,steps_per_epoch=120,epochs=30,validation_data=val_generator_big, validation_steps=50)"
      ],
      "execution_count": 0,
      "outputs": [
        {
          "output_type": "stream",
          "text": [
            "Epoch 1/30\n",
            "119/120 [============================>.] - ETA: 0s - loss: 2.2663 - acc: 0.2718Epoch 1/30\n",
            "120/120 [==============================] - 34s 285ms/step - loss: 2.2625 - acc: 0.2719 - val_loss: 1.6537 - val_acc: 0.3594\n",
            "Epoch 2/30\n",
            "119/120 [============================>.] - ETA: 0s - loss: 1.5888 - acc: 0.3528Epoch 1/30\n",
            "120/120 [==============================] - 19s 158ms/step - loss: 1.5902 - acc: 0.3528 - val_loss: 1.6637 - val_acc: 0.3594\n",
            "Epoch 3/30\n",
            "119/120 [============================>.] - ETA: 0s - loss: 1.4458 - acc: 0.4177Epoch 1/30\n",
            "120/120 [==============================] - 19s 158ms/step - loss: 1.4457 - acc: 0.4179 - val_loss: 1.7022 - val_acc: 0.3594\n",
            "Epoch 4/30\n",
            " 83/120 [===================>..........] - ETA: 4s - loss: 1.3291 - acc: 0.4699"
          ],
          "name": "stdout"
        },
        {
          "output_type": "error",
          "ename": "KeyboardInterrupt",
          "evalue": "ignored",
          "traceback": [
            "\u001b[0;31m---------------------------------------------------------------------------\u001b[0m",
            "\u001b[0;31mKeyboardInterrupt\u001b[0m                         Traceback (most recent call last)",
            "\u001b[0;32m<ipython-input-80-8b9fe4a8d4ce>\u001b[0m in \u001b[0;36m<module>\u001b[0;34m()\u001b[0m\n\u001b[0;32m----> 1\u001b[0;31m \u001b[0mthistory\u001b[0m\u001b[0;34m=\u001b[0m\u001b[0mtmodel\u001b[0m\u001b[0;34m.\u001b[0m\u001b[0mfit_generator\u001b[0m\u001b[0;34m(\u001b[0m\u001b[0mtrain_generator_big\u001b[0m\u001b[0;34m,\u001b[0m\u001b[0msteps_per_epoch\u001b[0m\u001b[0;34m=\u001b[0m\u001b[0;36m120\u001b[0m\u001b[0;34m,\u001b[0m\u001b[0mepochs\u001b[0m\u001b[0;34m=\u001b[0m\u001b[0;36m30\u001b[0m\u001b[0;34m,\u001b[0m\u001b[0mvalidation_data\u001b[0m\u001b[0;34m=\u001b[0m\u001b[0mval_generator_big\u001b[0m\u001b[0;34m,\u001b[0m \u001b[0mvalidation_steps\u001b[0m\u001b[0;34m=\u001b[0m\u001b[0;36m50\u001b[0m\u001b[0;34m)\u001b[0m\u001b[0;34m\u001b[0m\u001b[0;34m\u001b[0m\u001b[0m\n\u001b[0m",
            "\u001b[0;32m/usr/local/lib/python3.6/dist-packages/tensorflow_core/python/keras/engine/training.py\u001b[0m in \u001b[0;36mfit_generator\u001b[0;34m(self, generator, steps_per_epoch, epochs, verbose, callbacks, validation_data, validation_steps, validation_freq, class_weight, max_queue_size, workers, use_multiprocessing, shuffle, initial_epoch)\u001b[0m\n\u001b[1;32m   1294\u001b[0m         \u001b[0mshuffle\u001b[0m\u001b[0;34m=\u001b[0m\u001b[0mshuffle\u001b[0m\u001b[0;34m,\u001b[0m\u001b[0;34m\u001b[0m\u001b[0;34m\u001b[0m\u001b[0m\n\u001b[1;32m   1295\u001b[0m         \u001b[0minitial_epoch\u001b[0m\u001b[0;34m=\u001b[0m\u001b[0minitial_epoch\u001b[0m\u001b[0;34m,\u001b[0m\u001b[0;34m\u001b[0m\u001b[0;34m\u001b[0m\u001b[0m\n\u001b[0;32m-> 1296\u001b[0;31m         steps_name='steps_per_epoch')\n\u001b[0m\u001b[1;32m   1297\u001b[0m \u001b[0;34m\u001b[0m\u001b[0m\n\u001b[1;32m   1298\u001b[0m   def evaluate_generator(self,\n",
            "\u001b[0;32m/usr/local/lib/python3.6/dist-packages/tensorflow_core/python/keras/engine/training_generator.py\u001b[0m in \u001b[0;36mmodel_iteration\u001b[0;34m(model, data, steps_per_epoch, epochs, verbose, callbacks, validation_data, validation_steps, validation_freq, class_weight, max_queue_size, workers, use_multiprocessing, shuffle, initial_epoch, mode, batch_size, steps_name, **kwargs)\u001b[0m\n\u001b[1;32m    263\u001b[0m \u001b[0;34m\u001b[0m\u001b[0m\n\u001b[1;32m    264\u001b[0m       \u001b[0mis_deferred\u001b[0m \u001b[0;34m=\u001b[0m \u001b[0;32mnot\u001b[0m \u001b[0mmodel\u001b[0m\u001b[0;34m.\u001b[0m\u001b[0m_is_compiled\u001b[0m\u001b[0;34m\u001b[0m\u001b[0;34m\u001b[0m\u001b[0m\n\u001b[0;32m--> 265\u001b[0;31m       \u001b[0mbatch_outs\u001b[0m \u001b[0;34m=\u001b[0m \u001b[0mbatch_function\u001b[0m\u001b[0;34m(\u001b[0m\u001b[0;34m*\u001b[0m\u001b[0mbatch_data\u001b[0m\u001b[0;34m)\u001b[0m\u001b[0;34m\u001b[0m\u001b[0;34m\u001b[0m\u001b[0m\n\u001b[0m\u001b[1;32m    266\u001b[0m       \u001b[0;32mif\u001b[0m \u001b[0;32mnot\u001b[0m \u001b[0misinstance\u001b[0m\u001b[0;34m(\u001b[0m\u001b[0mbatch_outs\u001b[0m\u001b[0;34m,\u001b[0m \u001b[0mlist\u001b[0m\u001b[0;34m)\u001b[0m\u001b[0;34m:\u001b[0m\u001b[0;34m\u001b[0m\u001b[0;34m\u001b[0m\u001b[0m\n\u001b[1;32m    267\u001b[0m         \u001b[0mbatch_outs\u001b[0m \u001b[0;34m=\u001b[0m \u001b[0;34m[\u001b[0m\u001b[0mbatch_outs\u001b[0m\u001b[0;34m]\u001b[0m\u001b[0;34m\u001b[0m\u001b[0;34m\u001b[0m\u001b[0m\n",
            "\u001b[0;32m/usr/local/lib/python3.6/dist-packages/tensorflow_core/python/keras/engine/training.py\u001b[0m in \u001b[0;36mtrain_on_batch\u001b[0;34m(self, x, y, sample_weight, class_weight, reset_metrics)\u001b[0m\n\u001b[1;32m   1015\u001b[0m       \u001b[0mself\u001b[0m\u001b[0;34m.\u001b[0m\u001b[0m_update_sample_weight_modes\u001b[0m\u001b[0;34m(\u001b[0m\u001b[0msample_weights\u001b[0m\u001b[0;34m=\u001b[0m\u001b[0msample_weights\u001b[0m\u001b[0;34m)\u001b[0m\u001b[0;34m\u001b[0m\u001b[0;34m\u001b[0m\u001b[0m\n\u001b[1;32m   1016\u001b[0m       \u001b[0mself\u001b[0m\u001b[0;34m.\u001b[0m\u001b[0m_make_train_function\u001b[0m\u001b[0;34m(\u001b[0m\u001b[0;34m)\u001b[0m\u001b[0;34m\u001b[0m\u001b[0;34m\u001b[0m\u001b[0m\n\u001b[0;32m-> 1017\u001b[0;31m       \u001b[0moutputs\u001b[0m \u001b[0;34m=\u001b[0m \u001b[0mself\u001b[0m\u001b[0;34m.\u001b[0m\u001b[0mtrain_function\u001b[0m\u001b[0;34m(\u001b[0m\u001b[0mins\u001b[0m\u001b[0;34m)\u001b[0m  \u001b[0;31m# pylint: disable=not-callable\u001b[0m\u001b[0;34m\u001b[0m\u001b[0;34m\u001b[0m\u001b[0m\n\u001b[0m\u001b[1;32m   1018\u001b[0m \u001b[0;34m\u001b[0m\u001b[0m\n\u001b[1;32m   1019\u001b[0m     \u001b[0;32mif\u001b[0m \u001b[0mreset_metrics\u001b[0m\u001b[0;34m:\u001b[0m\u001b[0;34m\u001b[0m\u001b[0;34m\u001b[0m\u001b[0m\n",
            "\u001b[0;32m/usr/local/lib/python3.6/dist-packages/tensorflow_core/python/keras/backend.py\u001b[0m in \u001b[0;36m__call__\u001b[0;34m(self, inputs)\u001b[0m\n\u001b[1;32m   3474\u001b[0m \u001b[0;34m\u001b[0m\u001b[0m\n\u001b[1;32m   3475\u001b[0m     fetched = self._callable_fn(*array_vals,\n\u001b[0;32m-> 3476\u001b[0;31m                                 run_metadata=self.run_metadata)\n\u001b[0m\u001b[1;32m   3477\u001b[0m     \u001b[0mself\u001b[0m\u001b[0;34m.\u001b[0m\u001b[0m_call_fetch_callbacks\u001b[0m\u001b[0;34m(\u001b[0m\u001b[0mfetched\u001b[0m\u001b[0;34m[\u001b[0m\u001b[0;34m-\u001b[0m\u001b[0mlen\u001b[0m\u001b[0;34m(\u001b[0m\u001b[0mself\u001b[0m\u001b[0;34m.\u001b[0m\u001b[0m_fetches\u001b[0m\u001b[0;34m)\u001b[0m\u001b[0;34m:\u001b[0m\u001b[0;34m]\u001b[0m\u001b[0;34m)\u001b[0m\u001b[0;34m\u001b[0m\u001b[0;34m\u001b[0m\u001b[0m\n\u001b[1;32m   3478\u001b[0m     output_structure = nest.pack_sequence_as(\n",
            "\u001b[0;32m/usr/local/lib/python3.6/dist-packages/tensorflow_core/python/client/session.py\u001b[0m in \u001b[0;36m__call__\u001b[0;34m(self, *args, **kwargs)\u001b[0m\n\u001b[1;32m   1470\u001b[0m         ret = tf_session.TF_SessionRunCallable(self._session._session,\n\u001b[1;32m   1471\u001b[0m                                                \u001b[0mself\u001b[0m\u001b[0;34m.\u001b[0m\u001b[0m_handle\u001b[0m\u001b[0;34m,\u001b[0m \u001b[0margs\u001b[0m\u001b[0;34m,\u001b[0m\u001b[0;34m\u001b[0m\u001b[0;34m\u001b[0m\u001b[0m\n\u001b[0;32m-> 1472\u001b[0;31m                                                run_metadata_ptr)\n\u001b[0m\u001b[1;32m   1473\u001b[0m         \u001b[0;32mif\u001b[0m \u001b[0mrun_metadata\u001b[0m\u001b[0;34m:\u001b[0m\u001b[0;34m\u001b[0m\u001b[0;34m\u001b[0m\u001b[0m\n\u001b[1;32m   1474\u001b[0m           \u001b[0mproto_data\u001b[0m \u001b[0;34m=\u001b[0m \u001b[0mtf_session\u001b[0m\u001b[0;34m.\u001b[0m\u001b[0mTF_GetBuffer\u001b[0m\u001b[0;34m(\u001b[0m\u001b[0mrun_metadata_ptr\u001b[0m\u001b[0;34m)\u001b[0m\u001b[0;34m\u001b[0m\u001b[0;34m\u001b[0m\u001b[0m\n",
            "\u001b[0;31mKeyboardInterrupt\u001b[0m: "
          ]
        }
      ]
    },
    {
      "cell_type": "code",
      "metadata": {
        "id": "Tu8UETzlXhGk",
        "colab_type": "code",
        "outputId": "2f912877-2bd0-4e7f-aeb9-c5cef46aee1b",
        "colab": {
          "base_uri": "https://localhost:8080/",
          "height": 34
        }
      },
      "source": [
        "(19200-16000)/64"
      ],
      "execution_count": 0,
      "outputs": [
        {
          "output_type": "execute_result",
          "data": {
            "text/plain": [
              "50.0"
            ]
          },
          "metadata": {
            "tags": []
          },
          "execution_count": 30
        }
      ]
    },
    {
      "cell_type": "code",
      "metadata": {
        "id": "-Hzx81OdcOzc",
        "colab_type": "code",
        "outputId": "b4a2dc63-0ed9-468a-db7a-ec81e213db18",
        "colab": {
          "base_uri": "https://localhost:8080/",
          "height": 34
        }
      },
      "source": [
        "X.shape"
      ],
      "execution_count": 0,
      "outputs": [
        {
          "output_type": "execute_result",
          "data": {
            "text/plain": [
              "(19200, 28, 28, 4)"
            ]
          },
          "metadata": {
            "tags": []
          },
          "execution_count": 121
        }
      ]
    },
    {
      "cell_type": "code",
      "metadata": {
        "id": "SUHDBEwLcROe",
        "colab_type": "code",
        "outputId": "7775834e-56ed-4b3f-8c9a-350118805628",
        "colab": {
          "base_uri": "https://localhost:8080/",
          "height": 85
        }
      },
      "source": [
        "X_big[19000,:4,:4,0]"
      ],
      "execution_count": 0,
      "outputs": [
        {
          "output_type": "execute_result",
          "data": {
            "text/plain": [
              "array([[196., 196., 188., 188.],\n",
              "       [196., 196., 188., 188.],\n",
              "       [193., 193., 191., 191.],\n",
              "       [193., 193., 191., 191.]])"
            ]
          },
          "metadata": {
            "tags": []
          },
          "execution_count": 53
        }
      ]
    },
    {
      "cell_type": "code",
      "metadata": {
        "id": "rT1Hle6TcX9v",
        "colab_type": "code",
        "outputId": "9f8a77ea-9d22-4e08-a3bd-d9e76434ef75",
        "colab": {
          "base_uri": "https://localhost:8080/",
          "height": 85
        }
      },
      "source": [
        "X[0,:4,:4,0]"
      ],
      "execution_count": 0,
      "outputs": [
        {
          "output_type": "execute_result",
          "data": {
            "text/plain": [
              "array([[116, 108,  67,  47],\n",
              "       [122, 113,  64,  61],\n",
              "       [105, 110,  95,  94],\n",
              "       [120, 113,  97, 115]], dtype=uint8)"
            ]
          },
          "metadata": {
            "tags": []
          },
          "execution_count": 123
        }
      ]
    },
    {
      "cell_type": "code",
      "metadata": {
        "id": "O4MhtfoDcbIO",
        "colab_type": "code",
        "outputId": "d34a6cf3-2361-4277-9196-87b1060b1c44",
        "colab": {
          "base_uri": "https://localhost:8080/",
          "height": 34
        }
      },
      "source": [
        "y.shape"
      ],
      "execution_count": 0,
      "outputs": [
        {
          "output_type": "execute_result",
          "data": {
            "text/plain": [
              "(19200, 6)"
            ]
          },
          "metadata": {
            "tags": []
          },
          "execution_count": 33
        }
      ]
    },
    {
      "cell_type": "code",
      "metadata": {
        "id": "-NfOVVnT2rws",
        "colab_type": "code",
        "outputId": "1fa07292-c8c5-4edb-97ae-599e4c944007",
        "colab": {
          "base_uri": "https://localhost:8080/",
          "height": 34
        }
      },
      "source": [
        "X_big[16000:].shape"
      ],
      "execution_count": 0,
      "outputs": [
        {
          "output_type": "execute_result",
          "data": {
            "text/plain": [
              "(3200, 56, 56, 3)"
            ]
          },
          "metadata": {
            "tags": []
          },
          "execution_count": 35
        }
      ]
    },
    {
      "cell_type": "code",
      "metadata": {
        "id": "-ZXw-D_52zig",
        "colab_type": "code",
        "outputId": "c63f760f-c095-4e43-fe50-4876ca9047c8",
        "colab": {
          "base_uri": "https://localhost:8080/",
          "height": 34
        }
      },
      "source": [
        "X_big[18001].max()"
      ],
      "execution_count": 0,
      "outputs": [
        {
          "output_type": "execute_result",
          "data": {
            "text/plain": [
              "184.0"
            ]
          },
          "metadata": {
            "tags": []
          },
          "execution_count": 52
        }
      ]
    },
    {
      "cell_type": "code",
      "metadata": {
        "id": "svfvdX943Ba5",
        "colab_type": "code",
        "outputId": "8cffbcb4-11ad-40aa-8be4-2eb7b15f5b78",
        "colab": {
          "base_uri": "https://localhost:8080/",
          "height": 284
        }
      },
      "source": [
        "plt.imshow(X_big[0].astype('int'))"
      ],
      "execution_count": 0,
      "outputs": [
        {
          "output_type": "execute_result",
          "data": {
            "text/plain": [
              "<matplotlib.image.AxesImage at 0x7f9ef43667f0>"
            ]
          },
          "metadata": {
            "tags": []
          },
          "execution_count": 87
        },
        {
          "output_type": "display_data",
          "data": {
            "image/png": "[encoded data removed]",
            "text/plain": [
              "<Figure size 432x288 with 1 Axes>"
            ]
          },
          "metadata": {
            "tags": []
          }
        }
      ]
    },
    {
      "cell_type": "code",
      "metadata": {
        "id": "FTM-0Crq5U55",
        "colab_type": "code",
        "outputId": "db35b33c-9f2b-437f-9a43-e2f59d35148e",
        "colab": {
          "base_uri": "https://localhost:8080/",
          "height": 136
        }
      },
      "source": [
        "X_big[1000,:,:,2]"
      ],
      "execution_count": 0,
      "outputs": [
        {
          "output_type": "execute_result",
          "data": {
            "text/plain": [
              "array([[107., 107., 115., ..., 100.,  99.,  99.],\n",
              "       [107., 107., 115., ..., 100.,  99.,  99.],\n",
              "       [121., 121., 114., ..., 104.,  97.,  97.],\n",
              "       ...,\n",
              "       [132., 132., 142., ..., 113., 113., 113.],\n",
              "       [129., 129., 148., ..., 108., 110., 110.],\n",
              "       [129., 129., 148., ..., 108., 110., 110.]])"
            ]
          },
          "metadata": {
            "tags": []
          },
          "execution_count": 71
        }
      ]
    },
    {
      "cell_type": "code",
      "metadata": {
        "id": "eZQaGul85_yA",
        "colab_type": "code",
        "outputId": "a8c66441-5c89-4172-aa02-eaeee78184b3",
        "colab": {
          "base_uri": "https://localhost:8080/",
          "height": 969
        }
      },
      "source": [
        "X[1000,:,:,2]"
      ],
      "execution_count": 0,
      "outputs": [
        {
          "output_type": "execute_result",
          "data": {
            "text/plain": [
              "array([[86, 82, 76, 77, 78, 76, 89, 78, 78, 90, 91, 87, 81, 79, 77, 78,\n",
              "        81, 81, 76, 76, 78, 82, 81, 76, 73, 76, 77, 78],\n",
              "       [81, 80, 77, 76, 80, 75, 76, 73, 72, 82, 86, 92, 90, 82, 77, 78,\n",
              "        78, 74, 78, 80, 77, 79, 81, 79, 77, 77, 79, 75],\n",
              "       [79, 81, 75, 72, 72, 73, 79, 77, 75, 73, 84, 91, 87, 78, 76, 77,\n",
              "        72, 76, 80, 75, 78, 71, 74, 75, 74, 79, 76, 71],\n",
              "       [79, 81, 72, 71, 76, 77, 77, 75, 77, 77, 84, 85, 87, 85, 83, 79,\n",
              "        74, 72, 72, 75, 77, 79, 77, 74, 73, 75, 80, 75],\n",
              "       [82, 81, 76, 76, 81, 78, 74, 80, 80, 81, 81, 83, 81, 78, 84, 82,\n",
              "        76, 77, 75, 73, 79, 86, 84, 75, 77, 78, 78, 74],\n",
              "       [80, 81, 78, 75, 76, 78, 77, 82, 84, 87, 82, 83, 80, 82, 89, 82,\n",
              "        74, 73, 68, 74, 84, 89, 87, 80, 81, 77, 77, 76],\n",
              "       [78, 78, 73, 74, 80, 82, 77, 80, 86, 92, 91, 81, 79, 80, 83, 83,\n",
              "        78, 77, 76, 74, 80, 80, 90, 77, 76, 75, 77, 73],\n",
              "       [81, 79, 73, 76, 74, 73, 72, 82, 81, 93, 95, 84, 77, 73, 77, 80,\n",
              "        75, 76, 76, 78, 71, 80, 84, 79, 79, 79, 79, 77],\n",
              "       [85, 82, 77, 80, 77, 78, 75, 77, 82, 87, 91, 86, 75, 76, 77, 74,\n",
              "        74, 73, 70, 70, 76, 78, 82, 79, 74, 80, 80, 78],\n",
              "       [81, 79, 77, 80, 76, 75, 74, 75, 82, 87, 92, 86, 81, 82, 80, 74,\n",
              "        74, 76, 76, 78, 75, 76, 79, 75, 77, 78, 83, 77],\n",
              "       [84, 78, 79, 84, 80, 74, 75, 77, 83, 79, 89, 82, 78, 77, 83, 78,\n",
              "        71, 72, 74, 78, 76, 75, 83, 79, 75, 75, 85, 83],\n",
              "       [86, 81, 79, 81, 80, 78, 79, 81, 78, 81, 84, 77, 81, 80, 81, 81,\n",
              "        75, 75, 81, 78, 72, 76, 77, 78, 75, 79, 80, 76],\n",
              "       [80, 75, 74, 78, 82, 81, 76, 76, 77, 84, 79, 78, 80, 82, 80, 79,\n",
              "        76, 76, 78, 76, 76, 76, 73, 76, 76, 75, 74, 75],\n",
              "       [74, 73, 73, 78, 79, 76, 73, 75, 71, 79, 81, 83, 78, 86, 88, 81,\n",
              "        75, 72, 72, 76, 76, 71, 76, 74, 83, 85, 83, 78],\n",
              "       [75, 72, 72, 78, 82, 80, 76, 75, 73, 78, 79, 85, 80, 79, 78, 77,\n",
              "        77, 74, 75, 75, 73, 76, 75, 72, 77, 86, 83, 77],\n",
              "       [73, 72, 71, 73, 81, 81, 80, 74, 76, 79, 83, 96, 86, 77, 80, 80,\n",
              "        79, 80, 74, 70, 74, 76, 72, 75, 82, 84, 84, 79],\n",
              "       [75, 75, 73, 76, 85, 82, 75, 77, 75, 76, 79, 88, 82, 74, 78, 82,\n",
              "        79, 76, 74, 78, 72, 77, 74, 76, 78, 83, 84, 83],\n",
              "       [75, 73, 74, 76, 89, 91, 79, 79, 76, 75, 81, 85, 78, 73, 75, 79,\n",
              "        82, 79, 75, 75, 73, 70, 72, 77, 77, 76, 81, 83],\n",
              "       [75, 74, 72, 74, 89, 88, 81, 74, 79, 78, 82, 81, 79, 76, 77, 82,\n",
              "        78, 74, 75, 73, 73, 71, 72, 76, 81, 78, 83, 84],\n",
              "       [74, 74, 71, 75, 85, 88, 73, 78, 75, 79, 83, 85, 78, 75, 77, 80,\n",
              "        78, 73, 73, 72, 72, 71, 72, 79, 84, 80, 85, 85],\n",
              "       [78, 75, 75, 78, 84, 88, 82, 75, 82, 85, 83, 92, 87, 79, 79, 82,\n",
              "        83, 76, 74, 80, 73, 74, 72, 76, 83, 85, 84, 83],\n",
              "       [78, 77, 73, 74, 80, 82, 77, 73, 76, 80, 88, 92, 87, 79, 75, 77,\n",
              "        83, 80, 70, 71, 67, 69, 72, 77, 80, 81, 82, 83],\n",
              "       [84, 82, 81, 79, 83, 83, 83, 78, 78, 78, 84, 88, 93, 88, 77, 80,\n",
              "        83, 75, 76, 75, 70, 70, 74, 74, 75, 78, 80, 82],\n",
              "       [84, 86, 77, 75, 79, 78, 76, 77, 75, 79, 79, 85, 89, 82, 75, 76,\n",
              "        77, 77, 72, 77, 74, 69, 68, 72, 74, 72, 74, 78],\n",
              "       [87, 83, 77, 82, 80, 80, 81, 75, 76, 82, 81, 86, 88, 81, 78, 80,\n",
              "        79, 72, 72, 73, 73, 73, 73, 71, 74, 77, 77, 76],\n",
              "       [84, 78, 80, 80, 79, 79, 75, 78, 81, 86, 83, 83, 86, 84, 84, 85,\n",
              "        80, 75, 73, 75, 69, 70, 73, 72, 70, 71, 77, 78],\n",
              "       [84, 77, 80, 79, 78, 74, 79, 75, 84, 91, 88, 87, 82, 77, 82, 80,\n",
              "        74, 78, 73, 75, 68, 65, 70, 70, 69, 72, 72, 73],\n",
              "       [91, 78, 86, 85, 83, 77, 75, 89, 89, 89, 93, 93, 90, 83, 81, 81,\n",
              "        81, 79, 77, 76, 72, 72, 73, 76, 75, 72, 74, 78]], dtype=uint8)"
            ]
          },
          "metadata": {
            "tags": []
          },
          "execution_count": 84
        }
      ]
    },
    {
      "cell_type": "code",
      "metadata": {
        "id": "B5qnnwYY8gP1",
        "colab_type": "code",
        "colab": {}
      },
      "source": [
        ""
      ],
      "execution_count": 0,
      "outputs": []
    }
  ]
}